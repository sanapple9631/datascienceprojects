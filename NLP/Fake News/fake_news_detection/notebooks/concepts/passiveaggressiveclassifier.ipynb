{
 "cells": [
  {
   "cell_type": "markdown",
   "metadata": {},
   "source": [
    "### implementation of passive aggressive classifiers"
   ]
  },
  {
   "cell_type": "code",
   "execution_count": 1,
   "metadata": {},
   "outputs": [
    {
     "name": "stdout",
     "output_type": "stream",
     "text": [
      "Test Set Accuracy : 93.33333333333333 %\n",
      "\n",
      "\n",
      "Classification Report : \n",
      "\n",
      "              precision    recall  f1-score   support\n",
      "\n",
      "           0       1.00      1.00      1.00         4\n",
      "           1       1.00      0.75      0.86         4\n",
      "           2       0.88      1.00      0.93         7\n",
      "\n",
      "    accuracy                           0.93        15\n",
      "   macro avg       0.96      0.92      0.93        15\n",
      "weighted avg       0.94      0.93      0.93        15\n",
      "\n"
     ]
    }
   ],
   "source": [
    "\n",
    "# Importing modules \n",
    "from sklearn.datasets import load_iris \n",
    "from sklearn.linear_model import PassiveAggressiveClassifier \n",
    "from sklearn.metrics import classification_report, accuracy_score \n",
    "from sklearn.model_selection import train_test_split \n",
    "\n",
    "# Loading dataset \n",
    "dataset = load_iris() \n",
    "X = dataset.data \n",
    "y = dataset.target \n",
    "\n",
    "# Splitting iris dataset into train and test sets \n",
    "X_train, X_test, y_train, y_test = train_test_split(X, y, test_size = 0.1, random_state = 13) \n",
    "\n",
    "# Creating model \n",
    "model = PassiveAggressiveClassifier(C = 0.5, random_state = 5) \n",
    "\n",
    "# Fitting model \n",
    "model.fit(X_train, y_train) \n",
    "\n",
    "# Making prediction on test set \n",
    "test_pred = model.predict(X_test) \n",
    "\n",
    "# Model evaluation \n",
    "print(f\"Test Set Accuracy : {accuracy_score(y_test, test_pred) * 100} %\\n\\n\") \n",
    "\n",
    "print(f\"Classification Report : \\n\\n{classification_report(y_test, test_pred)}\") \n"
   ]
  },
  {
   "cell_type": "code",
   "execution_count": 7,
   "metadata": {},
   "outputs": [],
   "source": [
    "load_iris?"
   ]
  },
  {
   "cell_type": "code",
   "execution_count": 8,
   "metadata": {},
   "outputs": [
    {
     "data": {
      "text/plain": [
       "['sepal length (cm)',\n",
       " 'sepal width (cm)',\n",
       " 'petal length (cm)',\n",
       " 'petal width (cm)']"
      ]
     },
     "execution_count": 8,
     "metadata": {},
     "output_type": "execute_result"
    }
   ],
   "source": [
    "dataset.feature_names"
   ]
  },
  {
   "cell_type": "code",
   "execution_count": null,
   "metadata": {},
   "outputs": [],
   "source": []
  },
  {
   "cell_type": "code",
   "execution_count": null,
   "metadata": {},
   "outputs": [],
   "source": []
  }
 ],
 "metadata": {
  "kernelspec": {
   "display_name": "Python 3",
   "language": "python",
   "name": "python3"
  },
  "language_info": {
   "codemirror_mode": {
    "name": "ipython",
    "version": 3
   },
   "file_extension": ".py",
   "mimetype": "text/x-python",
   "name": "python",
   "nbconvert_exporter": "python",
   "pygments_lexer": "ipython3",
   "version": "3.8.6"
  }
 },
 "nbformat": 4,
 "nbformat_minor": 4
}
