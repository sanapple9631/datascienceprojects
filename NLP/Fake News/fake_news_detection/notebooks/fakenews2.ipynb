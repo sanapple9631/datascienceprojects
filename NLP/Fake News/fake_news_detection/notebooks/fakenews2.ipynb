{
 "cells": [
  {
   "cell_type": "markdown",
   "metadata": {},
   "source": [
    "##### fake news detection "
   ]
  },
  {
   "cell_type": "markdown",
   "metadata": {},
   "source": [
    "#### Fake news refers to misinformation or disinformation spread through word of mouth,media or digital channels such as edited videos/pics,memes,unverified sources and social media rumours or deep fake videos. \n",
    "Fake news has become a serious problem with potential of resulting in mob violence, public shame or any kind of social stigma. Or even propaganda like favouring politicians in elections or spreading inflammatory messages of terrorists,crimes etc.\n",
    "\n",
    "Many examples  are there in the past and currently .The problem statement dataset has been taken from kaggle Dataset :https://www.kaggle.com/pnkjgpt/fake-news-dataset"
   ]
  },
  {
   "cell_type": "markdown",
   "metadata": {},
   "source": [
    "### Data science project Documentation\n",
    "\n",
    "The Data Science Method\n",
    "\n",
    "<b>1.Problem Identification</b>\n",
    "* Identify the problem and why it is solved\n",
    "\n",
    "<b>2.Data Wrangling</b>\n",
    "* Data Collection\n",
    "    - Locating the data\n",
    "    - Data loading\n",
    "    - Data joining\n",
    "* Data Organization\n",
    "    - File structure\n",
    "    - Git & Github\n",
    "* Data Definition\n",
    "    * Column names\n",
    "    - Data types (numeric, categorical, timestamp, etc.)\n",
    "    - Description of the columns\n",
    "    - Count or percent per unique values or codes (including NA)\n",
    "    - The range of values or codes\n",
    "* Data Cleaning\n",
    "    * NA or missing data\n",
    "    - Duplicates\n",
    "\n",
    "<b>3.Exploratory Data Analysis</b>\n",
    "\n",
    "- Build data profile tables and plots\n",
    "- Outliers & Anomalies\n",
    "- Explore data relationships\n",
    "- Identification and creation of features\n",
    "\n",
    "<b>4.Pre-processing and Training Data Development</b>\n",
    "\n",
    "- Create dummy or indicator features for categorical variables\n",
    "- Standardize the magnitude of numeric features\n",
    "- Split into testing and training datasets\n",
    "- Apply scaler to the testing set\n",
    "\n",
    "<b>5.Modeling</b>\n",
    "\n",
    "- Fit Models with Training Data Set\n",
    "- Review Model Outcomes — Iterate over additional models as needed.\n",
    "- Identify the Final Model\n",
    "\n",
    "<b>6.Documentation </b>\n",
    "\n",
    "- Review the Results\n",
    "- Present and share your findings - storytelling\n",
    "- Finalize Code\n",
    "- Finalize Documentation"
   ]
  },
  {
   "cell_type": "markdown",
   "metadata": {},
   "source": [
    "### 1.Problem Identification\n",
    "####  The problem here is to develop a model that predict whether a news is fake or real"
   ]
  },
  {
   "cell_type": "code",
   "execution_count": null,
   "metadata": {},
   "outputs": [],
   "source": []
  },
  {
   "cell_type": "markdown",
   "metadata": {},
   "source": [
    "### 2.Data Wrangling"
   ]
  },
  {
   "cell_type": "markdown",
   "metadata": {},
   "source": []
  },
  {
   "cell_type": "code",
   "execution_count": 1,
   "metadata": {},
   "outputs": [],
   "source": [
    "#Import libraries\n",
    "import numpy as np\n",
    "import pandas as pd\n",
    "import matplotlib.pyplot as plt\n",
    "%matplotlib inline\n",
    "import seaborn as sns\n",
    "import nltk\n",
    "from nltk.stem import WordNetLemmatizer\n",
    "import re\n",
    "from wordcloud import WordCloud, STOPWORDS\n",
    "from sklearn import linear_model\n",
    "from sklearn.feature_extraction.text import CountVectorizer\n",
    "from sklearn.feature_extraction.text import TfidfVectorizer\n",
    "from sklearn.feature_extraction.text import TfidfTransformer\n",
    "from sklearn.linear_model import PassiveAggressiveClassifier\n",
    "from sklearn.model_selection import train_test_split\n",
    "from sklearn.model_selection import cross_val_score\n",
    "from sklearn.metrics import accuracy_score,confusion_matrix\n"
   ]
  },
  {
   "cell_type": "markdown",
   "metadata": {},
   "source": []
  },
  {
   "cell_type": "code",
   "execution_count": 2,
   "metadata": {},
   "outputs": [
    {
     "name": "stdout",
     "output_type": "stream",
     "text": [
      "nt\n",
      "C:\\Users\\Sanjay\\3datascienceprojects\\datascienceprojects\\NLP\\Fake News\\fake_news_detection\\notebooks\n",
      "['.gitkeep', '.ipynb_checkpoints', 'concepts', 'Fake News detection.ipynb', 'fakenews2.ipynb', 'fake_news_train_data_eda.html', 'pipeline.sav']\n"
     ]
    }
   ],
   "source": [
    "#locating the dataset, directories\n",
    "import os\n",
    "print(os.name)\n",
    "print(os.getcwd())\n",
    "print(os.listdir())"
   ]
  },
  {
   "cell_type": "code",
   "execution_count": 3,
   "metadata": {},
   "outputs": [],
   "source": [
    "data_set_path =(\"C:/Users/Sanjay/3datascienceprojects/datascienceprojects/NLP/Fake News/fake_news_detection/data/raw/\")\n",
    "df= pd.read_csv(data_set_path+\"train.csv\")"
   ]
  },
  {
   "cell_type": "code",
   "execution_count": 4,
   "metadata": {},
   "outputs": [
    {
     "data": {
      "text/html": [
       "<div>\n",
       "<style scoped>\n",
       "    .dataframe tbody tr th:only-of-type {\n",
       "        vertical-align: middle;\n",
       "    }\n",
       "\n",
       "    .dataframe tbody tr th {\n",
       "        vertical-align: top;\n",
       "    }\n",
       "\n",
       "    .dataframe thead th {\n",
       "        text-align: right;\n",
       "    }\n",
       "</style>\n",
       "<table border=\"1\" class=\"dataframe\">\n",
       "  <thead>\n",
       "    <tr style=\"text-align: right;\">\n",
       "      <th></th>\n",
       "      <th>index</th>\n",
       "      <th>title</th>\n",
       "      <th>text</th>\n",
       "      <th>subject</th>\n",
       "      <th>date</th>\n",
       "      <th>class</th>\n",
       "      <th>Unnamed: 6</th>\n",
       "    </tr>\n",
       "  </thead>\n",
       "  <tbody>\n",
       "    <tr>\n",
       "      <th>0</th>\n",
       "      <td>0</td>\n",
       "      <td>PRESIDENT TRUMP Explains New “America First” R...</td>\n",
       "      <td>That s what we re talking about! Another campa...</td>\n",
       "      <td>politics</td>\n",
       "      <td>Aug 2, 2017</td>\n",
       "      <td>Fake</td>\n",
       "      <td>NaN</td>\n",
       "    </tr>\n",
       "    <tr>\n",
       "      <th>1</th>\n",
       "      <td>1</td>\n",
       "      <td>TERMINALLY ILL FORMER MISS WI: “Until my last ...</td>\n",
       "      <td>How is it that Sean Hannity is the only media ...</td>\n",
       "      <td>politics</td>\n",
       "      <td>Oct 4, 2016</td>\n",
       "      <td>Fake</td>\n",
       "      <td>NaN</td>\n",
       "    </tr>\n",
       "    <tr>\n",
       "      <th>2</th>\n",
       "      <td>2</td>\n",
       "      <td>Cruz Humiliated By Moderator After Lie About ...</td>\n",
       "      <td>Almost immediately after learning that longtim...</td>\n",
       "      <td>News</td>\n",
       "      <td>February 13, 2016</td>\n",
       "      <td>Fake</td>\n",
       "      <td>NaN</td>\n",
       "    </tr>\n",
       "    <tr>\n",
       "      <th>3</th>\n",
       "      <td>3</td>\n",
       "      <td>Russia revels in Trump victory, looks to sanct...</td>\n",
       "      <td>MOSCOW (Reuters) - For all their mutual praise...</td>\n",
       "      <td>politicsNews</td>\n",
       "      <td>November 9, 2016</td>\n",
       "      <td>Real</td>\n",
       "      <td>NaN</td>\n",
       "    </tr>\n",
       "    <tr>\n",
       "      <th>4</th>\n",
       "      <td>4</td>\n",
       "      <td>Trump's bid to open U.S. monuments to developm...</td>\n",
       "      <td>WASHINGTON (Reuters) - The Trump administratio...</td>\n",
       "      <td>politicsNews</td>\n",
       "      <td>May 26, 2017</td>\n",
       "      <td>Real</td>\n",
       "      <td>NaN</td>\n",
       "    </tr>\n",
       "  </tbody>\n",
       "</table>\n",
       "</div>"
      ],
      "text/plain": [
       "   index                                              title  \\\n",
       "0      0  PRESIDENT TRUMP Explains New “America First” R...   \n",
       "1      1  TERMINALLY ILL FORMER MISS WI: “Until my last ...   \n",
       "2      2   Cruz Humiliated By Moderator After Lie About ...   \n",
       "3      3  Russia revels in Trump victory, looks to sanct...   \n",
       "4      4  Trump's bid to open U.S. monuments to developm...   \n",
       "\n",
       "                                                text       subject  \\\n",
       "0  That s what we re talking about! Another campa...      politics   \n",
       "1  How is it that Sean Hannity is the only media ...      politics   \n",
       "2  Almost immediately after learning that longtim...          News   \n",
       "3  MOSCOW (Reuters) - For all their mutual praise...  politicsNews   \n",
       "4  WASHINGTON (Reuters) - The Trump administratio...  politicsNews   \n",
       "\n",
       "                date class Unnamed: 6  \n",
       "0        Aug 2, 2017  Fake        NaN  \n",
       "1        Oct 4, 2016  Fake        NaN  \n",
       "2  February 13, 2016  Fake        NaN  \n",
       "3  November 9, 2016   Real        NaN  \n",
       "4      May 26, 2017   Real        NaN  "
      ]
     },
     "execution_count": 4,
     "metadata": {},
     "output_type": "execute_result"
    }
   ],
   "source": [
    "df.head()"
   ]
  },
  {
   "cell_type": "code",
   "execution_count": 5,
   "metadata": {},
   "outputs": [
    {
     "data": {
      "text/html": [
       "<div>\n",
       "<style scoped>\n",
       "    .dataframe tbody tr th:only-of-type {\n",
       "        vertical-align: middle;\n",
       "    }\n",
       "\n",
       "    .dataframe tbody tr th {\n",
       "        vertical-align: top;\n",
       "    }\n",
       "\n",
       "    .dataframe thead th {\n",
       "        text-align: right;\n",
       "    }\n",
       "</style>\n",
       "<table border=\"1\" class=\"dataframe\">\n",
       "  <thead>\n",
       "    <tr style=\"text-align: right;\">\n",
       "      <th></th>\n",
       "      <th>0</th>\n",
       "      <th>1</th>\n",
       "    </tr>\n",
       "  </thead>\n",
       "  <tbody>\n",
       "    <tr>\n",
       "      <th>index</th>\n",
       "      <td>0</td>\n",
       "      <td>1</td>\n",
       "    </tr>\n",
       "    <tr>\n",
       "      <th>title</th>\n",
       "      <td>PRESIDENT TRUMP Explains New “America First” R...</td>\n",
       "      <td>TERMINALLY ILL FORMER MISS WI: “Until my last ...</td>\n",
       "    </tr>\n",
       "    <tr>\n",
       "      <th>text</th>\n",
       "      <td>That s what we re talking about! Another campa...</td>\n",
       "      <td>How is it that Sean Hannity is the only media ...</td>\n",
       "    </tr>\n",
       "    <tr>\n",
       "      <th>subject</th>\n",
       "      <td>politics</td>\n",
       "      <td>politics</td>\n",
       "    </tr>\n",
       "    <tr>\n",
       "      <th>date</th>\n",
       "      <td>Aug 2, 2017</td>\n",
       "      <td>Oct 4, 2016</td>\n",
       "    </tr>\n",
       "    <tr>\n",
       "      <th>class</th>\n",
       "      <td>Fake</td>\n",
       "      <td>Fake</td>\n",
       "    </tr>\n",
       "    <tr>\n",
       "      <th>Unnamed: 6</th>\n",
       "      <td>NaN</td>\n",
       "      <td>NaN</td>\n",
       "    </tr>\n",
       "  </tbody>\n",
       "</table>\n",
       "</div>"
      ],
      "text/plain": [
       "                                                            0  \\\n",
       "index                                                       0   \n",
       "title       PRESIDENT TRUMP Explains New “America First” R...   \n",
       "text        That s what we re talking about! Another campa...   \n",
       "subject                                              politics   \n",
       "date                                              Aug 2, 2017   \n",
       "class                                                    Fake   \n",
       "Unnamed: 6                                                NaN   \n",
       "\n",
       "                                                            1  \n",
       "index                                                       1  \n",
       "title       TERMINALLY ILL FORMER MISS WI: “Until my last ...  \n",
       "text        How is it that Sean Hannity is the only media ...  \n",
       "subject                                              politics  \n",
       "date                                              Oct 4, 2016  \n",
       "class                                                    Fake  \n",
       "Unnamed: 6                                                NaN  "
      ]
     },
     "execution_count": 5,
     "metadata": {},
     "output_type": "execute_result"
    }
   ],
   "source": [
    "df.head(2).T # visualize to transpose mode "
   ]
  },
  {
   "cell_type": "code",
   "execution_count": 6,
   "metadata": {},
   "outputs": [
    {
     "name": "stdout",
     "output_type": "stream",
     "text": [
      "<class 'pandas.core.frame.DataFrame'>\n",
      "RangeIndex: 40000 entries, 0 to 39999\n",
      "Data columns (total 7 columns):\n",
      " #   Column      Non-Null Count  Dtype \n",
      "---  ------      --------------  ----- \n",
      " 0   index       40000 non-null  int64 \n",
      " 1   title       40000 non-null  object\n",
      " 2   text        40000 non-null  object\n",
      " 3   subject     40000 non-null  object\n",
      " 4   date        40000 non-null  object\n",
      " 5   class       40000 non-null  object\n",
      " 6   Unnamed: 6  1 non-null      object\n",
      "dtypes: int64(1), object(6)\n",
      "memory usage: 2.1+ MB\n"
     ]
    }
   ],
   "source": [
    "df.info()"
   ]
  },
  {
   "cell_type": "code",
   "execution_count": 7,
   "metadata": {},
   "outputs": [
    {
     "data": {
      "text/html": [
       "<div>\n",
       "<style scoped>\n",
       "    .dataframe tbody tr th:only-of-type {\n",
       "        vertical-align: middle;\n",
       "    }\n",
       "\n",
       "    .dataframe tbody tr th {\n",
       "        vertical-align: top;\n",
       "    }\n",
       "\n",
       "    .dataframe thead th {\n",
       "        text-align: right;\n",
       "    }\n",
       "</style>\n",
       "<table border=\"1\" class=\"dataframe\">\n",
       "  <thead>\n",
       "    <tr style=\"text-align: right;\">\n",
       "      <th></th>\n",
       "      <th>index</th>\n",
       "    </tr>\n",
       "  </thead>\n",
       "  <tbody>\n",
       "    <tr>\n",
       "      <th>count</th>\n",
       "      <td>40000.00000</td>\n",
       "    </tr>\n",
       "    <tr>\n",
       "      <th>mean</th>\n",
       "      <td>19999.50000</td>\n",
       "    </tr>\n",
       "    <tr>\n",
       "      <th>std</th>\n",
       "      <td>11547.14972</td>\n",
       "    </tr>\n",
       "    <tr>\n",
       "      <th>min</th>\n",
       "      <td>0.00000</td>\n",
       "    </tr>\n",
       "    <tr>\n",
       "      <th>25%</th>\n",
       "      <td>9999.75000</td>\n",
       "    </tr>\n",
       "    <tr>\n",
       "      <th>50%</th>\n",
       "      <td>19999.50000</td>\n",
       "    </tr>\n",
       "    <tr>\n",
       "      <th>75%</th>\n",
       "      <td>29999.25000</td>\n",
       "    </tr>\n",
       "    <tr>\n",
       "      <th>max</th>\n",
       "      <td>39999.00000</td>\n",
       "    </tr>\n",
       "  </tbody>\n",
       "</table>\n",
       "</div>"
      ],
      "text/plain": [
       "             index\n",
       "count  40000.00000\n",
       "mean   19999.50000\n",
       "std    11547.14972\n",
       "min        0.00000\n",
       "25%     9999.75000\n",
       "50%    19999.50000\n",
       "75%    29999.25000\n",
       "max    39999.00000"
      ]
     },
     "execution_count": 7,
     "metadata": {},
     "output_type": "execute_result"
    }
   ],
   "source": [
    "df.describe()"
   ]
  },
  {
   "cell_type": "code",
   "execution_count": 8,
   "metadata": {},
   "outputs": [
    {
     "data": {
      "text/plain": [
       "index         False\n",
       "title         False\n",
       "text          False\n",
       "subject       False\n",
       "date          False\n",
       "class         False\n",
       "Unnamed: 6     True\n",
       "dtype: bool"
      ]
     },
     "execution_count": 8,
     "metadata": {},
     "output_type": "execute_result"
    }
   ],
   "source": [
    "df.isna().any()\n",
    "#df.isnull().sum()"
   ]
  },
  {
   "cell_type": "markdown",
   "metadata": {},
   "source": [
    "There is no any missing values except Unnamed which is garbage data"
   ]
  },
  {
   "cell_type": "code",
   "execution_count": 9,
   "metadata": {},
   "outputs": [
    {
     "data": {
      "text/plain": [
       "'PRESIDENT TRUMP Explains New “America First” RAISE Act…No More Welfare For New Immigrants, Migrants…Favors English Speaking Immigrants…Protects Jobs For Minorities, US Workers From Being Replaced And MORE! [VIDEO]'"
      ]
     },
     "execution_count": 9,
     "metadata": {},
     "output_type": "execute_result"
    }
   ],
   "source": [
    "df.title[0] #1st title\n"
   ]
  },
  {
   "cell_type": "code",
   "execution_count": 10,
   "metadata": {},
   "outputs": [
    {
     "name": "stdout",
     "output_type": "stream",
     "text": [
      "PRESIDENT TRUMP Explains New “America First” RAISE Act…No More Welfare For New Immigrants, Migrants…Favors English Speaking Immigrants…Protects Jobs For Minorities, US Workers From Being Replaced And MORE! [VIDEO] \t\n",
      "\n",
      "TERMINALLY ILL FORMER MISS WI: “Until my last breath, I will use this voice to tell who Mr. Trump really is” [VIDEO] \t\n",
      "\n",
      " Cruz Humiliated By Moderator After Lie About Presidents Not Appointing Justices In Election Year \t\n",
      "\n",
      "Russia revels in Trump victory, looks to sanctions relief \t\n",
      "\n",
      "Trump's bid to open U.S. monuments to development draws calls for protection \t\n",
      "\n"
     ]
    }
   ],
   "source": [
    "for i in df['title'][0:5]:\n",
    "    print(i,\"\\t\\n\")"
   ]
  },
  {
   "cell_type": "code",
   "execution_count": 11,
   "metadata": {},
   "outputs": [
    {
     "data": {
      "text/plain": [
       "'That s what we re talking about! Another campaign promise kept. No wonder the Democrats and their media allies fear President Trump. When is the last time a politician actually followed through on a promise they made to the American voters that helped them to get elected?President Trump joined two Republican senators on Wednesday to champion legislation overhauling legal immigration in America, calling for a merit-based system that would significantly cut admissions over the next decade.Speaking at the White House, the president called it  the most significant reform to our immigration system in a half century. As a candidate, I campaigned on creating a merit-based immigration system that protects U.S. workers and taxpayers, and that is why we are here today,  Trump said.He was joined by Georgia Sen. David Perdue and Arkansas Sen. Tom Cotton, the Republicans who first introduced the Reforming American Immigration for a Strong Economy, or the RAISE Act, in February. They have said the legislation aims to reduce the number of green cards issued in half from 1 million to 500,000 a year.Trump, Perdue and Cotton argued on Tuesday that low-skilled and unskilled immigration into the United States has depressed wages.According to a fact sheet released to reporters, the new system would favor immigrants who are educated, speak English and have high-paying job offers. It would also reduce low-skilled and unskilled labor immigration.Trump said new immigrants must be able to  financially support themselves and their families. The RAISE Act prevents new migrants and new immigrants from collecting welfare and protects U.S. workers from being displaced,  the president said.  And that s a very big thing, they re not going to come in and just immediately go and collect welfare. The bill would prioritize immediate family members of United States residents, including spouses and young children. But it would end prioritization for extended family members and adult children of residents.The legislation also eliminates the Diversity Visa lottery system and limits permanent resident status for refugees to 50,000 a year.Trump lamented how the country has  record numbers of green cards to low-wage immigrants.  The White House said most of the 1 million immigrants who are accepted into the United States for legal permanent residency every year are low or unskilled workers.Among the hardest hit by this, the president said, are minority workers, who he said are  competing for jobs against brand new arrivals. It has not been fair to our people, to our citizens, to our workers,  he said.The administration also said 50 percent of immigrant households receive welfare benefits, as opposed to 30 percent of native households in the country. For entire story: Fox News '"
      ]
     },
     "execution_count": 11,
     "metadata": {},
     "output_type": "execute_result"
    }
   ],
   "source": [
    "df.text[0]"
   ]
  },
  {
   "cell_type": "code",
   "execution_count": 12,
   "metadata": {},
   "outputs": [
    {
     "name": "stdout",
     "output_type": "stream",
     "text": [
      "That s what we re talking about! Another campaign promise kept. No wonder the Democrats and their media allies fear President Trump. When is the last time a politician actually followed through on a promise they made to the American voters that helped them to get elected?President Trump joined two Republican senators on Wednesday to champion legislation overhauling legal immigration in America, calling for a merit-based system that would significantly cut admissions over the next decade.Speaking at the White House, the president called it  the most significant reform to our immigration system in a half century. As a candidate, I campaigned on creating a merit-based immigration system that protects U.S. workers and taxpayers, and that is why we are here today,  Trump said.He was joined by Georgia Sen. David Perdue and Arkansas Sen. Tom Cotton, the Republicans who first introduced the Reforming American Immigration for a Strong Economy, or the RAISE Act, in February. They have said the legislation aims to reduce the number of green cards issued in half from 1 million to 500,000 a year.Trump, Perdue and Cotton argued on Tuesday that low-skilled and unskilled immigration into the United States has depressed wages.According to a fact sheet released to reporters, the new system would favor immigrants who are educated, speak English and have high-paying job offers. It would also reduce low-skilled and unskilled labor immigration.Trump said new immigrants must be able to  financially support themselves and their families. The RAISE Act prevents new migrants and new immigrants from collecting welfare and protects U.S. workers from being displaced,  the president said.  And that s a very big thing, they re not going to come in and just immediately go and collect welfare. The bill would prioritize immediate family members of United States residents, including spouses and young children. But it would end prioritization for extended family members and adult children of residents.The legislation also eliminates the Diversity Visa lottery system and limits permanent resident status for refugees to 50,000 a year.Trump lamented how the country has  record numbers of green cards to low-wage immigrants.  The White House said most of the 1 million immigrants who are accepted into the United States for legal permanent residency every year are low or unskilled workers.Among the hardest hit by this, the president said, are minority workers, who he said are  competing for jobs against brand new arrivals. It has not been fair to our people, to our citizens, to our workers,  he said.The administration also said 50 percent of immigrant households receive welfare benefits, as opposed to 30 percent of native households in the country. For entire story: Fox News  \t\n",
      "\n",
      "\n",
      "How is it that Sean Hannity is the only media personality who is able to find these amazing, strong women who have stories every American voter should hear about Trump, how he really treats women and his about his genuine concern for others?Former Miss WI, Mellissa Young s story is heartbreaking and her admiration and respect for Donald Trump is unmistakeable. Watch former VP of Trump International Senada Adzem, and former Miss USA Carrie Prajean Boller speak out on  Hannity : \t\n",
      "\n",
      "\n",
      "Almost immediately after learning that longtime Supreme Court Justice Antonin Scalia had passed away suddenly while on a hunting trip in Texas, Sen. Ted Cruz joined his fellow Republican senators in boldly announcing that they would oppose any nomination that President Obama made and block the process for the remaining 361 days of his term.Justice Scalia was an American hero. We owe it to him, & the Nation, for the Senate to ensure that the next President names his replacement.  Ted Cruz (@tedcruz) February 13, 2016Republicans, Cruz included, were instantly greeted with a collective  what the hell are you thinking?  from the American people. The ability to appoint a Supreme Court Justice to replace one that has retired or passed away is the president s right by constitutional law. It s been this way for hundred of years. Suggesting otherwise is a violation of one of the country bedrock democratic principles.At the Republican Debate held later in the day, Cruz was asked to justify how torching the Constitution was defensible just because he didn t like the current president. He responded that it wasn t fair to appoint a new justice during an election year. In fact, he claimed, one hadn t been appointed during the last year of a presidency in over 80 years.Instantly, moderator John Dickerson s bullshit detector lit up. Cruz s lie was so egregious that his pants may as well have spontaneously combusted. I m sorry to interrupt, were any nominees appointed in an election year? Or was that just 80 years, there happened to be [no appointees in an election year]? Cruz doubles down on his lie: There were 80 years of not confirming. For example, LBJ nominated Abe Fordus, Fordus did not get confirmed he was defeated. So John Dickerson drops the hammer: But Kennedy was confirmed in [an election year] 1988. Cruz comes back with lie number 3: No Kennedy was confirmed in 1987. Which is immediately fact-checked yet again: He was appointed in  87, confirmed in  88. In other words, just a few decades ago, the country was faced with a similar dilemma   and they stuck with the Constitution. The legal team at NBC News confirmed that Kennedy was indeed nominated in 1987, but confirmed in 1988. The country was fine with this.For the record, Justice Anthony Kennedy was confirmed in 1988 but nominated in 1987. (We've been doing some research over here at #MTP)  Shawna Thomas (@ShawnaNBCNews) February 14, 2016As usual, Cruz has no leg to stand on. He simply wants his way and doesn t want to be bothered worrying about the facts. Fortunately, Dickerson has been one of those rare debate moderators who won t Cruz to spew lies and get no pushback.Watch the video below:Featured image via CBS News \t\n",
      "\n",
      "\n",
      "MOSCOW (Reuters) - For all their mutual praise, Russian President Vladimir Putin and U.S. President-elect Donald Trump are likely to disagree on many things. But Trump’s election win could hand Moscow an elusive prize - the lifting or easing of Western sanctions. Rolling back those sanctions, imposed by the United States and the European Union to punish Moscow for its 2014 annexation of Ukraine’s Crimea and support for separatists in eastern Ukraine, could spur investment in Russia’s flat-lining economy. That might make it even easier for Putin, who is trying to plug holes in the state budget inflicted by low oil prices and sanctions, to win a fourth presidential term in 2018 by allowing him to show he has returned the economy to growth.  “Clearly the chances of sanctions being lifted on Russia have risen substantially,” Charles Robertson, Renaissance Capital’s global chief economist, said. “That would improve the investment climate for Russia.” Russia’s rouble currency and stocks gained on the Trump election victory. Ukraine’s dollar-denominated bonds tumbled to multi-month lows, reflecting pessimism about what a Trump presidency means for the divided and indebted country. The Kremlin had been bracing for fraught relations if the White House had been won by Hillary Clinton - a politician Putin once accused of stirring up protests against him and who state media portrayed as an anti-Russian warmonger. Trump was portrayed in a more positive light. Putin described him as “very talented” and in Kremlin-backed media he was cast as a plucky political maverick. Still, few in Moscow had believed the Republican candidate would win, apart from a group of Trump-supporting nationalists who gathered in a Moscow bar decorated with a triptych of Putin, Trump and French Front National leader Marine Le Pen. Once it became clear he had won, Russia’s parliament erupted in applause and Putin told foreign ambassadors he was ready to fully restore ties with Washington. State TV ran a clip of a Russian doppelganger of Trump taunting a cowed Clinton lookalike and Margarita Simonyan, the boss of RT, the Kremlin’s English-language TV news channel, said she would drive around Moscow with a U.S. flag to celebrate. But Russian glee was tempered by a recognition that Trump’s pre-election promises might be diluted and that deep contradictions between Moscow and Washington would remain, even if Trump and Putin adopt a friendly tone in public. Trump’s attempts to ease restrictions on doing business with Russia could also be constrained by Congress, which has shown it has little patience for the Kremlin’s military adventures. Executives with Western firms say the biggest obstacle to deals with Russia is not the sanctions themselves but the prospect that more could be imposed and the zeal with which existing sanctions are enforced. If a Trump White House were to send a signal to businesses that it was taking a more lax approach, investments could start flowing again with sanctions still in place. A softer U.S. stance could also weaken European sanctions resolve. The bloc’s measures have already started to look wobbly, with some member states finding ways to circumvent them, others saying it is time to discuss moving on, and some business groups in countries such as Germany lobbying against them. Until now, Washington has helped stiffen European resolve. When Russia placed a Eurobond in May this year, many European banks decided not to take part because they did not want to fall foul of U.S. financial regulators. “America was the leader there and amazingly has been able to hold Europe together (on sanctions),” political analyst Masha Lipman told Reuters. “With Donald Trump in the White House I think there may be changes, something that might be beneficial for Russia.” Putin needs sanctions lifted as they risk hurting his re-election prospects. Russia’s central bank is forecasting economic growth of up to 1 percent next year, well below the level Russian households have come to expect. After previous slumps, recoveries have been driven by foreign lending and investment. There are already some signs that the economy is hurting support for Putin, a trend that is only likely to grow in the 18 months until the Russian presidential election. Kremlin-watchers said that, even if U.S.-relations were less antagonistic with Trump in the White House, any deal would involve hard bargaining on both sides. Russia is seeking formal recognition from the world that Crimea, part of Ukraine, is now Russian territory, something it has only got so far apart from a handful of nations. It also wants Kiev to do more to implement a peace deal covering eastern Ukraine, where pro-Russian separatists hold sway. In Syria, where Russia is helping President Bashar al-Assad fight a war with air strikes and military assistance, Moscow wants the West to drop ideas about changing the government, abandon help for what it says are hardline Islamists, and drop talk of possible no-fly zones. One possibility is a quid pro quo, with Russia making concessions on Syria in exchange for the United States ceding ground on Ukraine and sanctions. “For Russia the key point is Ukraine. If Trump says that America does not care about Ukraine, then that is all that Russia wants to hear right now,” Georgy Bovt, editor of the Russkiy Mir magazine, told Reuters. “On Syria it will be easier to reach a deal. I think that on Assad, Russia will be willing to compromise because Ukraine is more important for Russia.” Much has been made in Russian and Western media of the perceived similarities and differences between Putin and Trump, who have never met. Both are fond of tough talking and some Russian politicians have suggested the pair might be able to forge a close working relationship similar to the one the Russian leader enjoyed with former Italian Prime Minister Silvio Berlusconi.  Trump has said he might even meet Putin before his inauguration. Putin’s spokesman said there were currently no plans for such a meeting.   People familiar with both men’s leadership styles advised caution however, saying both were relatively thin-skinned when it came to criticism. Andrey Kortunov, director general of the Russian International Affairs Council, a think-tank close to the Foreign Ministry, told Reuters the fact that Trump was an untested politician would also be a worry for the Kremlin. “He’s a loose cannon and you never know what to expect from him,” he said. There were also concerns the two men might be too alike.  “The problem is that both of them, Putin and Trump, are macho,” Sergei Markov, a Kremlin-connected analyst and former pro-Putin lawmaker, told Reuters. “They could try to take the measure of each other. We can’t let that happen.”  \t\n",
      "\n",
      "\n",
      "WASHINGTON (Reuters) - The Trump administration’s call for an opening of U.S. national monuments to economic development has drawn 107,00 comments from the public, with many expressing hope that sites like Utah’s Bears Ears can maintain their protected status. President Donald Trump last month ordered the Interior Department to review some 27 national monuments created since 1996, with an eye to rescinding or shrinking the size of some of them to increase development opportunities. “It would be a travesty to leave this landscape vulnerable to uranium and fossil-fuel mining, and excessive off-road vehicle use,” the Navajo-led Bears Ears Inter-Tribal Coalition wrote in one public comment. The five-tribe group oversees the Bears Ears monument and lobbied hard to secure its monument designation by former President Barack Obama in December. Interior Secretary Ryan Zinke gave the public until May 26 to comment on Bears Ears, the country’s newest monument, and until July 10 to comment on the rest. As of Friday, groups and individuals had posted more than 107,000 comments on a government website created to receive them as part of the review process, a high number given the short time frame.  A Commerce Department call for public comments on regulatory hurdles completed last month drew under 200 comments. One public comment, made anonymously, urged Zinke not to bow to industry and political pressure to alter the Bears Ears monument. “Do the hard thing, speak for the many and not the few,” it said. Many industry groups and politicians, including Utah’s governor, two senators and congressman, want Zinke to reverse monument designations and turn over control of the protected lands to states.  Zinke is due to give his recommendation to Trump on Bears Ears on June 10 and publish a report on the other monuments later. Conservation groups said support of national monuments is wider than the online comments suggest. “This issue just strikes a nerve with people,” said Randi Spivak of the Center for Biological Diversity. But many opponents of the monument designations have posted comments, with some arguing that barring large swaths of land from any development keeps the public from fully enjoying these areas. “Sweeping monument designations ... restrict or eliminate opportunities for responsible off-highway motorized recreation on public lands,” said one anonymous comment, from a self-described member of the American Motorcycle Association.  \t\n",
      "\n",
      "\n"
     ]
    }
   ],
   "source": [
    "for i in df['text'][0:5]:   ###Text of dataset\n",
    "    print(i,\"\\t\\n\\n\")"
   ]
  },
  {
   "cell_type": "code",
   "execution_count": 13,
   "metadata": {},
   "outputs": [
    {
     "data": {
      "text/plain": [
       "index         40000\n",
       "title         35075\n",
       "text          34965\n",
       "subject           9\n",
       "date           2389\n",
       "class             3\n",
       "Unnamed: 6        1\n",
       "dtype: int64"
      ]
     },
     "execution_count": 13,
     "metadata": {},
     "output_type": "execute_result"
    }
   ],
   "source": [
    "df.nunique()"
   ]
  },
  {
   "cell_type": "code",
   "execution_count": 14,
   "metadata": {},
   "outputs": [
    {
     "data": {
      "text/plain": [
       "class\n",
       "Fake                20886\n",
       "February 5, 2017        1\n",
       "Real                19113\n",
       "dtype: int64"
      ]
     },
     "execution_count": 14,
     "metadata": {},
     "output_type": "execute_result"
    }
   ],
   "source": [
    "dups_class = df.pivot_table(index = ['class'], aggfunc ='size')\n",
    "dups_class"
   ]
  },
  {
   "cell_type": "markdown",
   "metadata": {},
   "source": [
    "#### In Class column one dirty data is filled , so we will remove it later"
   ]
  },
  {
   "cell_type": "code",
   "execution_count": 15,
   "metadata": {},
   "outputs": [
    {
     "data": {
      "text/html": [
       "<div>\n",
       "<style scoped>\n",
       "    .dataframe tbody tr th:only-of-type {\n",
       "        vertical-align: middle;\n",
       "    }\n",
       "\n",
       "    .dataframe tbody tr th {\n",
       "        vertical-align: top;\n",
       "    }\n",
       "\n",
       "    .dataframe thead th {\n",
       "        text-align: right;\n",
       "    }\n",
       "</style>\n",
       "<table border=\"1\" class=\"dataframe\">\n",
       "  <thead>\n",
       "    <tr style=\"text-align: right;\">\n",
       "      <th></th>\n",
       "      <th>index</th>\n",
       "      <th>title</th>\n",
       "      <th>text</th>\n",
       "      <th>subject</th>\n",
       "      <th>date</th>\n",
       "      <th>class</th>\n",
       "      <th>Unnamed: 6</th>\n",
       "    </tr>\n",
       "  </thead>\n",
       "  <tbody>\n",
       "    <tr>\n",
       "      <th>504</th>\n",
       "      <td>504</td>\n",
       "      <td>Even Mitch McConnell Is Beginning To Turn On ...</td>\n",
       "      <td>Is Impeachment Next? (VIDEO)</td>\n",
       "      <td>Donald Trump s Muslim ban is proving to be a l...</td>\n",
       "      <td>News</td>\n",
       "      <td>February 5, 2017</td>\n",
       "      <td>Fake</td>\n",
       "    </tr>\n",
       "  </tbody>\n",
       "</table>\n",
       "</div>"
      ],
      "text/plain": [
       "     index                                              title  \\\n",
       "504    504   Even Mitch McConnell Is Beginning To Turn On ...   \n",
       "\n",
       "                              text  \\\n",
       "504   Is Impeachment Next? (VIDEO)   \n",
       "\n",
       "                                               subject  date  \\\n",
       "504  Donald Trump s Muslim ban is proving to be a l...  News   \n",
       "\n",
       "                class Unnamed: 6  \n",
       "504  February 5, 2017       Fake  "
      ]
     },
     "execution_count": 15,
     "metadata": {},
     "output_type": "execute_result"
    }
   ],
   "source": [
    "df[df['class'] == 'February 5, 2017']"
   ]
  },
  {
   "cell_type": "code",
   "execution_count": 16,
   "metadata": {},
   "outputs": [
    {
     "data": {
      "text/plain": [
       "Fake    1\n",
       "Name: Unnamed: 6, dtype: int64"
      ]
     },
     "execution_count": 16,
     "metadata": {},
     "output_type": "execute_result"
    }
   ],
   "source": [
    "#data seems shifted \n",
    "df['Unnamed: 6'].value_counts()"
   ]
  },
  {
   "cell_type": "code",
   "execution_count": 19,
   "metadata": {},
   "outputs": [
    {
     "data": {
      "text/plain": [
       "Index(['index', 'title', 'text', 'subject', 'date', 'class', 'Unnamed: 6'], dtype='object')"
      ]
     },
     "execution_count": 19,
     "metadata": {},
     "output_type": "execute_result"
    }
   ],
   "source": [
    "df.columns"
   ]
  },
  {
   "cell_type": "code",
   "execution_count": 20,
   "metadata": {},
   "outputs": [],
   "source": [
    "df.drop(columns=['index', 'Unnamed: 6'], inplace=True)"
   ]
  },
  {
   "cell_type": "code",
   "execution_count": 21,
   "metadata": {},
   "outputs": [
    {
     "data": {
      "text/html": [
       "<div>\n",
       "<style scoped>\n",
       "    .dataframe tbody tr th:only-of-type {\n",
       "        vertical-align: middle;\n",
       "    }\n",
       "\n",
       "    .dataframe tbody tr th {\n",
       "        vertical-align: top;\n",
       "    }\n",
       "\n",
       "    .dataframe thead th {\n",
       "        text-align: right;\n",
       "    }\n",
       "</style>\n",
       "<table border=\"1\" class=\"dataframe\">\n",
       "  <thead>\n",
       "    <tr style=\"text-align: right;\">\n",
       "      <th></th>\n",
       "      <th>title</th>\n",
       "      <th>text</th>\n",
       "      <th>subject</th>\n",
       "      <th>date</th>\n",
       "      <th>class</th>\n",
       "    </tr>\n",
       "  </thead>\n",
       "  <tbody>\n",
       "    <tr>\n",
       "      <th>0</th>\n",
       "      <td>PRESIDENT TRUMP Explains New “America First” R...</td>\n",
       "      <td>That s what we re talking about! Another campa...</td>\n",
       "      <td>politics</td>\n",
       "      <td>Aug 2, 2017</td>\n",
       "      <td>Fake</td>\n",
       "    </tr>\n",
       "    <tr>\n",
       "      <th>1</th>\n",
       "      <td>TERMINALLY ILL FORMER MISS WI: “Until my last ...</td>\n",
       "      <td>How is it that Sean Hannity is the only media ...</td>\n",
       "      <td>politics</td>\n",
       "      <td>Oct 4, 2016</td>\n",
       "      <td>Fake</td>\n",
       "    </tr>\n",
       "    <tr>\n",
       "      <th>2</th>\n",
       "      <td>Cruz Humiliated By Moderator After Lie About ...</td>\n",
       "      <td>Almost immediately after learning that longtim...</td>\n",
       "      <td>News</td>\n",
       "      <td>February 13, 2016</td>\n",
       "      <td>Fake</td>\n",
       "    </tr>\n",
       "    <tr>\n",
       "      <th>3</th>\n",
       "      <td>Russia revels in Trump victory, looks to sanct...</td>\n",
       "      <td>MOSCOW (Reuters) - For all their mutual praise...</td>\n",
       "      <td>politicsNews</td>\n",
       "      <td>November 9, 2016</td>\n",
       "      <td>Real</td>\n",
       "    </tr>\n",
       "    <tr>\n",
       "      <th>4</th>\n",
       "      <td>Trump's bid to open U.S. monuments to developm...</td>\n",
       "      <td>WASHINGTON (Reuters) - The Trump administratio...</td>\n",
       "      <td>politicsNews</td>\n",
       "      <td>May 26, 2017</td>\n",
       "      <td>Real</td>\n",
       "    </tr>\n",
       "    <tr>\n",
       "      <th>...</th>\n",
       "      <td>...</td>\n",
       "      <td>...</td>\n",
       "      <td>...</td>\n",
       "      <td>...</td>\n",
       "      <td>...</td>\n",
       "    </tr>\n",
       "    <tr>\n",
       "      <th>39995</th>\n",
       "      <td>U.S. officials step up rhetoric on Russia link...</td>\n",
       "      <td>(Reuters) - Republican vice presidential candi...</td>\n",
       "      <td>politicsNews</td>\n",
       "      <td>October 16, 2016</td>\n",
       "      <td>Real</td>\n",
       "    </tr>\n",
       "    <tr>\n",
       "      <th>39996</th>\n",
       "      <td>McDonald’s Manager To Hispanic Customer: ‘Can...</td>\n",
       "      <td>An employee working at a North Carolina McDona...</td>\n",
       "      <td>News</td>\n",
       "      <td>September 13, 2017</td>\n",
       "      <td>Fake</td>\n",
       "    </tr>\n",
       "    <tr>\n",
       "      <th>39997</th>\n",
       "      <td>SMUG LIBERAL LAW PROFESSOR SHUT DOWN BY TUCKER...</td>\n",
       "      <td>Tucker to sanctuary city supporter: how did a ...</td>\n",
       "      <td>politics</td>\n",
       "      <td>Mar 29, 2017</td>\n",
       "      <td>Fake</td>\n",
       "    </tr>\n",
       "    <tr>\n",
       "      <th>39998</th>\n",
       "      <td>Robert Parry: Sorting Out the Russia Mess</td>\n",
       "      <td>Consortium News Exclusive: The U.S. mainstream...</td>\n",
       "      <td>US_News</td>\n",
       "      <td>October 31, 2017</td>\n",
       "      <td>Fake</td>\n",
       "    </tr>\n",
       "    <tr>\n",
       "      <th>39999</th>\n",
       "      <td>Israeli missiles hit military post near Damasc...</td>\n",
       "      <td>BEIRUT (Reuters) - Israeli missiles struck a m...</td>\n",
       "      <td>worldnews</td>\n",
       "      <td>December 2, 2017</td>\n",
       "      <td>Real</td>\n",
       "    </tr>\n",
       "  </tbody>\n",
       "</table>\n",
       "<p>40000 rows × 5 columns</p>\n",
       "</div>"
      ],
      "text/plain": [
       "                                                   title  \\\n",
       "0      PRESIDENT TRUMP Explains New “America First” R...   \n",
       "1      TERMINALLY ILL FORMER MISS WI: “Until my last ...   \n",
       "2       Cruz Humiliated By Moderator After Lie About ...   \n",
       "3      Russia revels in Trump victory, looks to sanct...   \n",
       "4      Trump's bid to open U.S. monuments to developm...   \n",
       "...                                                  ...   \n",
       "39995  U.S. officials step up rhetoric on Russia link...   \n",
       "39996   McDonald’s Manager To Hispanic Customer: ‘Can...   \n",
       "39997  SMUG LIBERAL LAW PROFESSOR SHUT DOWN BY TUCKER...   \n",
       "39998          Robert Parry: Sorting Out the Russia Mess   \n",
       "39999  Israeli missiles hit military post near Damasc...   \n",
       "\n",
       "                                                    text       subject  \\\n",
       "0      That s what we re talking about! Another campa...      politics   \n",
       "1      How is it that Sean Hannity is the only media ...      politics   \n",
       "2      Almost immediately after learning that longtim...          News   \n",
       "3      MOSCOW (Reuters) - For all their mutual praise...  politicsNews   \n",
       "4      WASHINGTON (Reuters) - The Trump administratio...  politicsNews   \n",
       "...                                                  ...           ...   \n",
       "39995  (Reuters) - Republican vice presidential candi...  politicsNews   \n",
       "39996  An employee working at a North Carolina McDona...          News   \n",
       "39997  Tucker to sanctuary city supporter: how did a ...      politics   \n",
       "39998  Consortium News Exclusive: The U.S. mainstream...       US_News   \n",
       "39999  BEIRUT (Reuters) - Israeli missiles struck a m...     worldnews   \n",
       "\n",
       "                     date class  \n",
       "0             Aug 2, 2017  Fake  \n",
       "1             Oct 4, 2016  Fake  \n",
       "2       February 13, 2016  Fake  \n",
       "3       November 9, 2016   Real  \n",
       "4           May 26, 2017   Real  \n",
       "...                   ...   ...  \n",
       "39995   October 16, 2016   Real  \n",
       "39996  September 13, 2017  Fake  \n",
       "39997        Mar 29, 2017  Fake  \n",
       "39998    October 31, 2017  Fake  \n",
       "39999   December 2, 2017   Real  \n",
       "\n",
       "[40000 rows x 5 columns]"
      ]
     },
     "execution_count": 21,
     "metadata": {},
     "output_type": "execute_result"
    }
   ],
   "source": [
    "df"
   ]
  },
  {
   "cell_type": "code",
   "execution_count": null,
   "metadata": {},
   "outputs": [],
   "source": []
  },
  {
   "cell_type": "code",
   "execution_count": 22,
   "metadata": {},
   "outputs": [
    {
     "data": {
      "text/plain": [
       "subject\n",
       "Donald Trump s Muslim ban is proving to be a lot more difficult and a lot less constitutional than his followers hope. While two courts in a row have struck Trump down, even Mitch McConnell is seeing the writing on the wall. He said on Sunday that the Senate will not defend Trump s questionably constitutional Muslim ban.On CNN s State of the Union, McConnell was asked about a couple of Trump s latest, including Trump s defense of Russian President Vladimir Putin s record of assassinating his political enemies, to which Trump essentially shrugged his shoulders and said that the United States does it too. McConnell called Putin  a thug  and then, without a shred of irony in his voice, complained that Putin wasn t legitimately elected.The subject then turned to Trump s claim that he only lost the popular vote because more than 3 million undocumented people voted. While McConnell didn t exactly deny this baseless claim, he did say that  election fraud  wasn t significant enough to have swayed the election and that any investigations should be left up to the state.Then it turned to Trump s latest priority, which is his Muslim ban. While Trump hasn t yet lashed out at the second court to put a halt to his ban, Trump did have a Twitter meltdown toward the first, who is a conservative George Bush Sr. appointee:The opinion of this so-called judge, which essentially takes law-enforcement away from our country, is ridiculous and will be overturned!  Donald J. Trump (@realDonaldTrump) February 4, 2017Because the ban was lifted by a judge, many very bad and dangerous people may be pouring into our country. A terrible decision  Donald J. Trump (@realDonaldTrump) February 4, 2017The judge opens up our country to potential terrorists and others that do not have our best interests at heart. Bad people are very happy!  Donald J. Trump (@realDonaldTrump) February 5, 2017CNN s Jake Tapper asked McConnell if Congress would be willing to make the ban law, which would make the legality at least a bit less questionable. McConnell wanted nothing to do with it. I don t know that that s necessary,  McConnell told CNN s Jake Tapper on  State of the Union  Sunday.  I mean, the courts are going to decide whether the executive order the President issued is valid or not, and we all follow court orders. Here s the video in its entirety:McConnell is sending a clear message to Donald Trump and it s one he won t like. Even in our hyper partisan Congress, McConnell is not willing to step out on a political limb just because Trump is a Republican. This isn t exactly bravery on McConnell s part, but it does show that perhaps impeachment might not be far behind. McConnell would much rather work with a President Mike Pence.Featured image via video screen capture.         1\n",
       "Government News                                                                                                                                                                                                                                                                                                                                                                                                                                                                                                                                                                                                                                                                                                                                                                                                                                                                                                                                                                                                                                                                                                                                                                                                                                                                                                                                                                                                                                                                                                                                                                                                                                                                                                                                                                                                                                                                                                                                                                                                                                                                                                                                                                                                                                                                                                                                                                                                                                                                                                                                                                                                                                                                                                                                                                                                                                                                           1393\n",
       "Middle-east                                                                                                                                                                                                                                                                                                                                                                                                                                                                                                                                                                                                                                                                                                                                                                                                                                                                                                                                                                                                                                                                                                                                                                                                                                                                                                                                                                                                                                                                                                                                                                                                                                                                                                                                                                                                                                                                                                                                                                                                                                                                                                                                                                                                                                                                                                                                                                                                                                                                                                                                                                                                                                                                                                                                                                                                                                                                                691\n",
       "News                                                                                                                                                                                                                                                                                                                                                                                                                                                                                                                                                                                                                                                                                                                                                                                                                                                                                                                                                                                                                                                                                                                                                                                                                                                                                                                                                                                                                                                                                                                                                                                                                                                                                                                                                                                                                                                                                                                                                                                                                                                                                                                                                                                                                                                                                                                                                                                                                                                                                                                                                                                                                                                                                                                                                                                                                                                                                      8027\n",
       "US_News                                                                                                                                                                                                                                                                                                                                                                                                                                                                                                                                                                                                                                                                                                                                                                                                                                                                                                                                                                                                                                                                                                                                                                                                                                                                                                                                                                                                                                                                                                                                                                                                                                                                                                                                                                                                                                                                                                                                                                                                                                                                                                                                                                                                                                                                                                                                                                                                                                                                                                                                                                                                                                                                                                                                                                                                                                                                                    683\n",
       "left-news                                                                                                                                                                                                                                                                                                                                                                                                                                                                                                                                                                                                                                                                                                                                                                                                                                                                                                                                                                                                                                                                                                                                                                                                                                                                                                                                                                                                                                                                                                                                                                                                                                                                                                                                                                                                                                                                                                                                                                                                                                                                                                                                                                                                                                                                                                                                                                                                                                                                                                                                                                                                                                                                                                                                                                                                                                                                                 3966\n",
       "politics                                                                                                                                                                                                                                                                                                                                                                                                                                                                                                                                                                                                                                                                                                                                                                                                                                                                                                                                                                                                                                                                                                                                                                                                                                                                                                                                                                                                                                                                                                                                                                                                                                                                                                                                                                                                                                                                                                                                                                                                                                                                                                                                                                                                                                                                                                                                                                                                                                                                                                                                                                                                                                                                                                                                                                                                                                                                                  6126\n",
       "politicsNews                                                                                                                                                                                                                                                                                                                                                                                                                                                                                                                                                                                                                                                                                                                                                                                                                                                                                                                                                                                                                                                                                                                                                                                                                                                                                                                                                                                                                                                                                                                                                                                                                                                                                                                                                                                                                                                                                                                                                                                                                                                                                                                                                                                                                                                                                                                                                                                                                                                                                                                                                                                                                                                                                                                                                                                                                                                                             10075\n",
       "worldnews                                                                                                                                                                                                                                                                                                                                                                                                                                                                                                                                                                                                                                                                                                                                                                                                                                                                                                                                                                                                                                                                                                                                                                                                                                                                                                                                                                                                                                                                                                                                                                                                                                                                                                                                                                                                                                                                                                                                                                                                                                                                                                                                                                                                                                                                                                                                                                                                                                                                                                                                                                                                                                                                                                                                                                                                                                                                                 9038\n",
       "dtype: int64"
      ]
     },
     "execution_count": 22,
     "metadata": {},
     "output_type": "execute_result"
    }
   ],
   "source": [
    "dups_sub = df.pivot_table(index = ['subject'], aggfunc ='size')\n",
    "dups_sub"
   ]
  },
  {
   "cell_type": "markdown",
   "metadata": {},
   "source": [
    "#### one value is of text in subject column  thats need to removed"
   ]
  },
  {
   "cell_type": "markdown",
   "metadata": {},
   "source": [
    "# DROP BOTH "
   ]
  },
  {
   "cell_type": "code",
   "execution_count": 33,
   "metadata": {},
   "outputs": [
    {
     "data": {
      "text/plain": [
       "array(['politics', 'News', 'politicsNews', 'Government News', 'worldnews',\n",
       "       'left-news', 'Middle-east', 'US_News',\n",
       "       'Donald Trump s Muslim ban is proving to be a lot more difficult and a lot less constitutional than his followers hope. While two courts in a row have struck Trump down, even Mitch McConnell is seeing the writing on the wall. He said on Sunday that the Senate will not defend Trump s questionably constitutional Muslim ban.On CNN s State of the Union, McConnell was asked about a couple of Trump s latest, including Trump s defense of Russian President Vladimir Putin s record of assassinating his political enemies, to which Trump essentially shrugged his shoulders and said that the United States does it too. McConnell called Putin  a thug  and then, without a shred of irony in his voice, complained that Putin wasn t legitimately elected.The subject then turned to Trump s claim that he only lost the popular vote because more than 3 million undocumented people voted. While McConnell didn t exactly deny this baseless claim, he did say that  election fraud  wasn t significant enough to have swayed the election and that any investigations should be left up to the state.Then it turned to Trump s latest priority, which is his Muslim ban. While Trump hasn t yet lashed out at the second court to put a halt to his ban, Trump did have a Twitter meltdown toward the first, who is a conservative George Bush Sr. appointee:The opinion of this so-called judge, which essentially takes law-enforcement away from our country, is ridiculous and will be overturned!  Donald J. Trump (@realDonaldTrump) February 4, 2017Because the ban was lifted by a judge, many very bad and dangerous people may be pouring into our country. A terrible decision  Donald J. Trump (@realDonaldTrump) February 4, 2017The judge opens up our country to potential terrorists and others that do not have our best interests at heart. Bad people are very happy!  Donald J. Trump (@realDonaldTrump) February 5, 2017CNN s Jake Tapper asked McConnell if Congress would be willing to make the ban law, which would make the legality at least a bit less questionable. McConnell wanted nothing to do with it. I don t know that that s necessary,  McConnell told CNN s Jake Tapper on  State of the Union  Sunday.  I mean, the courts are going to decide whether the executive order the President issued is valid or not, and we all follow court orders. Here s the video in its entirety:McConnell is sending a clear message to Donald Trump and it s one he won t like. Even in our hyper partisan Congress, McConnell is not willing to step out on a political limb just because Trump is a Republican. This isn t exactly bravery on McConnell s part, but it does show that perhaps impeachment might not be far behind. McConnell would much rather work with a President Mike Pence.Featured image via video screen capture. '],\n",
       "      dtype=object)"
      ]
     },
     "execution_count": 33,
     "metadata": {},
     "output_type": "execute_result"
    }
   ],
   "source": [
    "df.subject.unique()"
   ]
  },
  {
   "cell_type": "code",
   "execution_count": 37,
   "metadata": {},
   "outputs": [
    {
     "data": {
      "text/html": [
       "<div>\n",
       "<style scoped>\n",
       "    .dataframe tbody tr th:only-of-type {\n",
       "        vertical-align: middle;\n",
       "    }\n",
       "\n",
       "    .dataframe tbody tr th {\n",
       "        vertical-align: top;\n",
       "    }\n",
       "\n",
       "    .dataframe thead th {\n",
       "        text-align: right;\n",
       "    }\n",
       "</style>\n",
       "<table border=\"1\" class=\"dataframe\">\n",
       "  <thead>\n",
       "    <tr style=\"text-align: right;\">\n",
       "      <th></th>\n",
       "      <th>title</th>\n",
       "      <th>text</th>\n",
       "      <th>subject</th>\n",
       "      <th>date</th>\n",
       "      <th>class</th>\n",
       "    </tr>\n",
       "  </thead>\n",
       "  <tbody>\n",
       "    <tr>\n",
       "      <th>1</th>\n",
       "      <td>TERMINALLY ILL FORMER MISS WI: “Until my last ...</td>\n",
       "      <td>How is it that Sean Hannity is the only media ...</td>\n",
       "      <td>politics</td>\n",
       "      <td>Oct 4, 2016</td>\n",
       "      <td>Fake</td>\n",
       "    </tr>\n",
       "  </tbody>\n",
       "</table>\n",
       "</div>"
      ],
      "text/plain": [
       "                                               title  \\\n",
       "1  TERMINALLY ILL FORMER MISS WI: “Until my last ...   \n",
       "\n",
       "                                                text   subject         date  \\\n",
       "1  How is it that Sean Hannity is the only media ...  politics  Oct 4, 2016   \n",
       "\n",
       "  class  \n",
       "1  Fake  "
      ]
     },
     "execution_count": 37,
     "metadata": {},
     "output_type": "execute_result"
    }
   ],
   "source": [
    "df.iloc[[]]"
   ]
  },
  {
   "cell_type": "code",
   "execution_count": null,
   "metadata": {},
   "outputs": [],
   "source": []
  },
  {
   "cell_type": "code",
   "execution_count": null,
   "metadata": {},
   "outputs": [],
   "source": []
  },
  {
   "cell_type": "markdown",
   "metadata": {},
   "source": [
    "### 3.Exploratory Data Analysis"
   ]
  },
  {
   "cell_type": "markdown",
   "metadata": {},
   "source": [
    "<b>pandas profiling</b> does helps in visualizing and understanding the distribution of each variable. It generates a report with all the information easily available\n",
    "\n",
    "The main disadvantage of pandas profiling is its use with large datasets. With the increase in the size of the data the time to generate the report also increases a lot."
   ]
  },
  {
   "cell_type": "code",
   "execution_count": null,
   "metadata": {},
   "outputs": [],
   "source": [
    "from pandas_profiling import ProfileReport\n",
    "prof_report = ProfileReport(df)\n",
    "report_path='C:/Users/Sanjay/3datascienceprojects/datascienceprojects/NLP/Fake News/fake_news_detection/reports'\n",
    "prof_report.to_file(output_file=report_path+'/df_eda_report.html')"
   ]
  },
  {
   "cell_type": "code",
   "execution_count": null,
   "metadata": {},
   "outputs": [],
   "source": [
    "prof_report"
   ]
  },
  {
   "cell_type": "code",
   "execution_count": null,
   "metadata": {},
   "outputs": [],
   "source": [
    "df_top50=df.copy()\n",
    "plt.figure(figsize=(250,100))\n",
    "plt.title('Percentage of news_subjects', fontsize=20)\n",
    "df_top50.subject.value_counts().plot(kind='pie', \n",
    "                              wedgeprops=dict(width=.7), autopct='%1.0f%%', startangle= -20, \n",
    "                              textprops={'fontsize': 15})"
   ]
  },
  {
   "cell_type": "code",
   "execution_count": null,
   "metadata": {},
   "outputs": [],
   "source": [
    "plt.figure(figsize=(15,10))\n",
    "ax = sns.countplot(x=\"class\",data=df)\n"
   ]
  },
  {
   "cell_type": "code",
   "execution_count": null,
   "metadata": {},
   "outputs": [],
   "source": [
    "plt.figure(figsize=(15,10))\n",
    "ax = sns.countplot(x=\"subject\",data=df)  ##one subject is long-text so its not displaying properly"
   ]
  },
  {
   "cell_type": "code",
   "execution_count": null,
   "metadata": {},
   "outputs": [],
   "source": [
    "### fake"
   ]
  },
  {
   "cell_type": "markdown",
   "metadata": {},
   "source": [
    "A countplot is great because it displays the value counts for each play in our data set"
   ]
  },
  {
   "cell_type": "code",
   "execution_count": null,
   "metadata": {},
   "outputs": [],
   "source": [
    "plt.figure(figsize=(15,10))\n",
    "ax = sns.countplot(x=\"subject\",data=df,order=df['subject'].value_counts().index)  ##one subject is long-text so its not displaying properly"
   ]
  },
  {
   "cell_type": "markdown",
   "metadata": {},
   "source": [
    "- tokenize our text\n",
    "- lowercase the text if the text contains alphabetic characters\n",
    "- replace punctuation in the text\n",
    "- remove stopwords from the text\n",
    "- apply function ‘clean’ to class column"
   ]
  },
  {
   "cell_type": "code",
   "execution_count": null,
   "metadata": {},
   "outputs": [],
   "source": [
    "import string\n",
    "from nltk import word_tokenize\n",
    "from nltk.corpus import stopwords\n",
    "stopwords = set(stopwords.words('english'))\n",
    "stopwords"
   ]
  },
  {
   "cell_type": "code",
   "execution_count": null,
   "metadata": {},
   "outputs": [],
   "source": [
    "df_top50 =df.head(50)\n",
    "df_top50.text[0]"
   ]
  },
  {
   "cell_type": "code",
   "execution_count": null,
   "metadata": {},
   "outputs": [],
   "source": [
    "def clean(text):\n",
    "    text = word_tokenize(text)\n",
    "    text = [word.lower() for word in text if word.isalpha()]\n",
    "    punct = str.maketrans('','',string.punctuation)\n",
    "    text =[word.translate(punct) for word in text]\n",
    "    text =[word for word in text if not word in stopwords]\n",
    "    return text\n"
   ]
  },
  {
   "cell_type": "code",
   "execution_count": null,
   "metadata": {},
   "outputs": [],
   "source": [
    "df_top50.text[2]"
   ]
  },
  {
   "cell_type": "code",
   "execution_count": null,
   "metadata": {},
   "outputs": [],
   "source": [
    "df_top50['text'] =df_top50['text'].apply(clean)"
   ]
  },
  {
   "cell_type": "code",
   "execution_count": null,
   "metadata": {},
   "outputs": [],
   "source": [
    "df_top50.text"
   ]
  },
  {
   "cell_type": "code",
   "execution_count": null,
   "metadata": {},
   "outputs": [],
   "source": [
    "from collections import Counter\n",
    "def counter(text):\n",
    "    cnt = Counter()\n",
    "    for msgs in text:\n",
    "        for msg in msgs:\n",
    "            cnt[msg]+=1\n",
    "    return cnt\n",
    "\n",
    "\n",
    "txt_cnt = counter(df_top50['text'])\n"
   ]
  },
  {
   "cell_type": "code",
   "execution_count": null,
   "metadata": {},
   "outputs": [],
   "source": [
    "most_common_words =sorted(txt_cnt.most_common(10))  ## try to sort by no , not aliphabetical\n",
    "most_common_words"
   ]
  },
  {
   "cell_type": "code",
   "execution_count": null,
   "metadata": {},
   "outputs": [],
   "source": [
    "common_words = txt_cnt.most_common(20)\n",
    "common_words = pd.DataFrame(common_words,columns=['Words','Counts'])\n",
    "plt.figure(figsize=(15,10))\n",
    "sns.barplot(y='Words',x='Counts',data=common_words)"
   ]
  },
  {
   "cell_type": "code",
   "execution_count": null,
   "metadata": {},
   "outputs": [],
   "source": [
    "\n",
    "\n"
   ]
  },
  {
   "cell_type": "code",
   "execution_count": null,
   "metadata": {},
   "outputs": [],
   "source": []
  },
  {
   "cell_type": "code",
   "execution_count": null,
   "metadata": {},
   "outputs": [],
   "source": [
    "\n"
   ]
  },
  {
   "cell_type": "code",
   "execution_count": null,
   "metadata": {},
   "outputs": [],
   "source": [
    "real_words = str(df_top50['text'])"
   ]
  },
  {
   "cell_type": "code",
   "execution_count": null,
   "metadata": {},
   "outputs": [],
   "source": [
    " #real words\n",
    "wordcloud = WordCloud(width = 800, height = 800, \n",
    "                background_color ='white', \n",
    "                stopwords = stopwords, \n",
    "                min_font_size = 10).generate(real_words) \n",
    "  \n",
    "# plot the WordCloud image                        \n",
    "plt.figure(figsize = (8, 8), facecolor = None) \n",
    "plt.imshow(wordcloud) \n",
    "plt.axis(\"off\") \n",
    "plt.tight_layout(pad = 0) \n",
    "  \n",
    "plt.show() \n",
    " "
   ]
  },
  {
   "cell_type": "code",
   "execution_count": null,
   "metadata": {},
   "outputs": [],
   "source": []
  },
  {
   "cell_type": "code",
   "execution_count": null,
   "metadata": {},
   "outputs": [],
   "source": []
  },
  {
   "cell_type": "code",
   "execution_count": null,
   "metadata": {},
   "outputs": [],
   "source": []
  },
  {
   "cell_type": "code",
   "execution_count": null,
   "metadata": {},
   "outputs": [],
   "source": []
  },
  {
   "cell_type": "code",
   "execution_count": null,
   "metadata": {},
   "outputs": [],
   "source": []
  },
  {
   "cell_type": "code",
   "execution_count": null,
   "metadata": {},
   "outputs": [],
   "source": [
    "df_top50['class'].value_counts()"
   ]
  },
  {
   "cell_type": "markdown",
   "metadata": {},
   "source": [
    "### 4.Pre-processing and Training Data Development\n"
   ]
  },
  {
   "cell_type": "markdown",
   "metadata": {},
   "source": []
  },
  {
   "cell_type": "code",
   "execution_count": null,
   "metadata": {},
   "outputs": [],
   "source": []
  },
  {
   "cell_type": "code",
   "execution_count": null,
   "metadata": {},
   "outputs": [],
   "source": []
  },
  {
   "cell_type": "code",
   "execution_count": null,
   "metadata": {},
   "outputs": [],
   "source": []
  },
  {
   "cell_type": "code",
   "execution_count": null,
   "metadata": {},
   "outputs": [],
   "source": []
  },
  {
   "cell_type": "code",
   "execution_count": null,
   "metadata": {},
   "outputs": [],
   "source": []
  },
  {
   "cell_type": "code",
   "execution_count": null,
   "metadata": {},
   "outputs": [],
   "source": []
  },
  {
   "cell_type": "code",
   "execution_count": null,
   "metadata": {},
   "outputs": [],
   "source": []
  },
  {
   "cell_type": "code",
   "execution_count": null,
   "metadata": {},
   "outputs": [],
   "source": [
    "X_train,X_test,y_train,y_test = train_test_split(df_top50['text'],df_top50['class'],test_size=0.25,random_state=7,shuffle=True)\n",
    "tfidf_vectorizer = TfidfVectorizer(stop_words='english',max_df =0.75)"
   ]
  },
  {
   "cell_type": "code",
   "execution_count": null,
   "metadata": {},
   "outputs": [],
   "source": [
    "vec_train = tfidf_vectorizer.fit_transform(X_train.values.astype('U'))\n",
    "vec_test = tfidf_vectorizer.transform(X_test.values.astype('U'))"
   ]
  },
  {
   "cell_type": "code",
   "execution_count": null,
   "metadata": {},
   "outputs": [],
   "source": [
    "pac = PassiveAggressiveClassifier(max_iter=50)\n",
    "pac.fit(vec_train,y_train)"
   ]
  },
  {
   "cell_type": "code",
   "execution_count": null,
   "metadata": {},
   "outputs": [],
   "source": [
    "y_pred =pac.predict(vec_test)\n",
    "score = accuracy_score(y_test,y_pred)\n",
    "print(f'accuracy_score:{round(score*100,2)}%')"
   ]
  },
  {
   "cell_type": "code",
   "execution_count": null,
   "metadata": {},
   "outputs": [],
   "source": [
    "confusion_matrix(y_test,y_pred,labels=['Real','Fake'])"
   ]
  },
  {
   "cell_type": "code",
   "execution_count": null,
   "metadata": {},
   "outputs": [],
   "source": [
    "X =tfidf_vectorizer.transform(df['text'].values.astype('U'))"
   ]
  },
  {
   "cell_type": "code",
   "execution_count": null,
   "metadata": {},
   "outputs": [],
   "source": [
    "scores = cross_val_score(pac,X,df['class'].values,cv=5)\n",
    "print(f'K Fold_score:{round(scores.mean()*100,2)}%')"
   ]
  },
  {
   "cell_type": "code",
   "execution_count": null,
   "metadata": {},
   "outputs": [],
   "source": [
    "#pwd\n",
    "path='C:/Users/Sanjay/3datascienceprojects/datascienceprojects/NLP/Fake News/fake_news_detection/data/raw/archive/'"
   ]
  },
  {
   "cell_type": "code",
   "execution_count": null,
   "metadata": {},
   "outputs": [],
   "source": [
    "df_true=pd.read_csv(path+'True.csv')\n",
    "df_true['label']='Real'\n",
    "df_true_rep=[df_true['text'][i].replace('WASHINGTON (Reuters) - ','').replace('LONDON (Reuters) - ','').replace('(Reuters) - ','') for i in range(len(df_true['text']))]\n",
    "df_true['text']=df_true_rep\n",
    "df_fake=pd.read_csv(path+'Fake.csv')\n",
    "df_fake['label']='Fake'\n",
    "df_final=pd.concat([df_true,df_fake])\n",
    "df_final=df_final.drop(['subject','date'], axis=1)\n",
    "df_fake"
   ]
  },
  {
   "cell_type": "code",
   "execution_count": null,
   "metadata": {},
   "outputs": [],
   "source": [
    "def findlabel(newtext):\n",
    "    vec_newtest=tfidf_vectorizer.transform([newtext])\n",
    "    y_pred1=pac.predict(vec_newtest)\n",
    "    return y_pred1[0]"
   ]
  },
  {
   "cell_type": "code",
   "execution_count": null,
   "metadata": {},
   "outputs": [],
   "source": [
    "findlabel((df_true['text'][0]))"
   ]
  },
  {
   "cell_type": "code",
   "execution_count": null,
   "metadata": {},
   "outputs": [],
   "source": [
    "df_true['text'][0]"
   ]
  },
  {
   "cell_type": "code",
   "execution_count": null,
   "metadata": {},
   "outputs": [],
   "source": [
    "findlabel((df_fake['text'][0]))"
   ]
  },
  {
   "cell_type": "code",
   "execution_count": null,
   "metadata": {},
   "outputs": [],
   "source": [
    "df_fake['text'][0]"
   ]
  },
  {
   "cell_type": "code",
   "execution_count": null,
   "metadata": {},
   "outputs": [],
   "source": [
    "sum([1 if findlabel((df_true['text'][i]))=='Real' else 0 for i in range(len(df_true['text']))])/df_true['text'].size"
   ]
  },
  {
   "cell_type": "code",
   "execution_count": null,
   "metadata": {},
   "outputs": [],
   "source": [
    "sum([1 if findlabel((df_fake['text'][i]))=='Fake' else 0 for i in range(len(df_fake['text']))])/df_fake['text'].size"
   ]
  },
  {
   "cell_type": "code",
   "execution_count": null,
   "metadata": {},
   "outputs": [],
   "source": []
  },
  {
   "cell_type": "code",
   "execution_count": null,
   "metadata": {},
   "outputs": [],
   "source": []
  },
  {
   "cell_type": "code",
   "execution_count": null,
   "metadata": {},
   "outputs": [],
   "source": []
  },
  {
   "cell_type": "code",
   "execution_count": null,
   "metadata": {},
   "outputs": [],
   "source": []
  },
  {
   "cell_type": "code",
   "execution_count": null,
   "metadata": {},
   "outputs": [],
   "source": []
  },
  {
   "cell_type": "code",
   "execution_count": null,
   "metadata": {},
   "outputs": [],
   "source": []
  },
  {
   "cell_type": "code",
   "execution_count": null,
   "metadata": {},
   "outputs": [],
   "source": []
  },
  {
   "cell_type": "code",
   "execution_count": null,
   "metadata": {},
   "outputs": [],
   "source": []
  },
  {
   "cell_type": "code",
   "execution_count": null,
   "metadata": {},
   "outputs": [],
   "source": []
  },
  {
   "cell_type": "code",
   "execution_count": null,
   "metadata": {},
   "outputs": [],
   "source": []
  },
  {
   "cell_type": "code",
   "execution_count": null,
   "metadata": {},
   "outputs": [],
   "source": []
  },
  {
   "cell_type": "code",
   "execution_count": null,
   "metadata": {},
   "outputs": [],
   "source": []
  },
  {
   "cell_type": "code",
   "execution_count": null,
   "metadata": {},
   "outputs": [],
   "source": []
  },
  {
   "cell_type": "code",
   "execution_count": null,
   "metadata": {},
   "outputs": [],
   "source": []
  },
  {
   "cell_type": "code",
   "execution_count": null,
   "metadata": {},
   "outputs": [],
   "source": []
  },
  {
   "cell_type": "code",
   "execution_count": null,
   "metadata": {},
   "outputs": [],
   "source": []
  },
  {
   "cell_type": "code",
   "execution_count": null,
   "metadata": {},
   "outputs": [],
   "source": []
  },
  {
   "cell_type": "code",
   "execution_count": null,
   "metadata": {},
   "outputs": [],
   "source": []
  },
  {
   "cell_type": "code",
   "execution_count": null,
   "metadata": {},
   "outputs": [],
   "source": []
  },
  {
   "cell_type": "code",
   "execution_count": null,
   "metadata": {},
   "outputs": [],
   "source": []
  },
  {
   "cell_type": "code",
   "execution_count": null,
   "metadata": {},
   "outputs": [],
   "source": []
  },
  {
   "cell_type": "code",
   "execution_count": null,
   "metadata": {},
   "outputs": [],
   "source": []
  },
  {
   "cell_type": "code",
   "execution_count": null,
   "metadata": {},
   "outputs": [],
   "source": []
  },
  {
   "cell_type": "code",
   "execution_count": null,
   "metadata": {},
   "outputs": [],
   "source": []
  },
  {
   "cell_type": "code",
   "execution_count": null,
   "metadata": {},
   "outputs": [],
   "source": []
  },
  {
   "cell_type": "code",
   "execution_count": null,
   "metadata": {},
   "outputs": [],
   "source": []
  },
  {
   "cell_type": "code",
   "execution_count": null,
   "metadata": {},
   "outputs": [],
   "source": []
  },
  {
   "cell_type": "code",
   "execution_count": null,
   "metadata": {},
   "outputs": [],
   "source": []
  },
  {
   "cell_type": "code",
   "execution_count": null,
   "metadata": {},
   "outputs": [],
   "source": []
  },
  {
   "cell_type": "code",
   "execution_count": null,
   "metadata": {},
   "outputs": [],
   "source": []
  },
  {
   "cell_type": "code",
   "execution_count": null,
   "metadata": {},
   "outputs": [],
   "source": []
  },
  {
   "cell_type": "code",
   "execution_count": null,
   "metadata": {},
   "outputs": [],
   "source": []
  },
  {
   "cell_type": "code",
   "execution_count": null,
   "metadata": {},
   "outputs": [],
   "source": []
  },
  {
   "cell_type": "code",
   "execution_count": null,
   "metadata": {},
   "outputs": [],
   "source": []
  },
  {
   "cell_type": "code",
   "execution_count": null,
   "metadata": {},
   "outputs": [],
   "source": []
  },
  {
   "cell_type": "code",
   "execution_count": null,
   "metadata": {},
   "outputs": [],
   "source": []
  },
  {
   "cell_type": "code",
   "execution_count": null,
   "metadata": {},
   "outputs": [],
   "source": []
  },
  {
   "cell_type": "code",
   "execution_count": null,
   "metadata": {},
   "outputs": [],
   "source": []
  },
  {
   "cell_type": "code",
   "execution_count": null,
   "metadata": {},
   "outputs": [],
   "source": []
  },
  {
   "cell_type": "code",
   "execution_count": null,
   "metadata": {},
   "outputs": [],
   "source": []
  },
  {
   "cell_type": "code",
   "execution_count": null,
   "metadata": {},
   "outputs": [],
   "source": []
  },
  {
   "cell_type": "code",
   "execution_count": null,
   "metadata": {},
   "outputs": [],
   "source": []
  },
  {
   "cell_type": "code",
   "execution_count": null,
   "metadata": {},
   "outputs": [],
   "source": []
  },
  {
   "cell_type": "code",
   "execution_count": null,
   "metadata": {},
   "outputs": [],
   "source": []
  }
 ],
 "metadata": {
  "kernelspec": {
   "display_name": "Python 3",
   "language": "python",
   "name": "python3"
  },
  "language_info": {
   "codemirror_mode": {
    "name": "ipython",
    "version": 3
   },
   "file_extension": ".py",
   "mimetype": "text/x-python",
   "name": "python",
   "nbconvert_exporter": "python",
   "pygments_lexer": "ipython3",
   "version": "3.8.6"
  }
 },
 "nbformat": 4,
 "nbformat_minor": 4
}
