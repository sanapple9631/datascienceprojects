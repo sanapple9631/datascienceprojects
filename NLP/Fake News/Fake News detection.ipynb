{
 "cells": [
  {
   "cell_type": "markdown",
   "metadata": {},
   "source": [
    "## Fake news Detection "
   ]
  },
  {
   "cell_type": "code",
   "execution_count": 1,
   "metadata": {},
   "outputs": [],
   "source": [
    "### Import the libraries\n",
    "import numpy as np\n",
    "import pandas as pd\n",
    "import seaborn as sns\n",
    "import matplotlib.pyplot as plt\n",
    "%matplotlib inline"
   ]
  },
  {
   "cell_type": "code",
   "execution_count": 2,
   "metadata": {},
   "outputs": [],
   "source": [
    "##Explore the datasets\n",
    "fake_news_data = pd.read_csv(\"train.csv\")\n"
   ]
  },
  {
   "cell_type": "code",
   "execution_count": 3,
   "metadata": {},
   "outputs": [
    {
     "name": "stdout",
     "output_type": "stream",
     "text": [
      "<class 'pandas.core.frame.DataFrame'>\n",
      "RangeIndex: 40000 entries, 0 to 39999\n",
      "Data columns (total 7 columns):\n",
      " #   Column      Non-Null Count  Dtype \n",
      "---  ------      --------------  ----- \n",
      " 0   index       40000 non-null  int64 \n",
      " 1   title       40000 non-null  object\n",
      " 2   text        40000 non-null  object\n",
      " 3   subject     40000 non-null  object\n",
      " 4   date        40000 non-null  object\n",
      " 5   class       40000 non-null  object\n",
      " 6   Unnamed: 6  1 non-null      object\n",
      "dtypes: int64(1), object(6)\n",
      "memory usage: 2.1+ MB\n"
     ]
    }
   ],
   "source": [
    "fake_news_data.info()"
   ]
  },
  {
   "cell_type": "code",
   "execution_count": 4,
   "metadata": {},
   "outputs": [
    {
     "data": {
      "text/plain": [
       "(40000, 7)"
      ]
     },
     "execution_count": 4,
     "metadata": {},
     "output_type": "execute_result"
    }
   ],
   "source": [
    "fake_news_data.shape"
   ]
  },
  {
   "cell_type": "code",
   "execution_count": 5,
   "metadata": {},
   "outputs": [
    {
     "data": {
      "text/html": [
       "<div>\n",
       "<style scoped>\n",
       "    .dataframe tbody tr th:only-of-type {\n",
       "        vertical-align: middle;\n",
       "    }\n",
       "\n",
       "    .dataframe tbody tr th {\n",
       "        vertical-align: top;\n",
       "    }\n",
       "\n",
       "    .dataframe thead th {\n",
       "        text-align: right;\n",
       "    }\n",
       "</style>\n",
       "<table border=\"1\" class=\"dataframe\">\n",
       "  <thead>\n",
       "    <tr style=\"text-align: right;\">\n",
       "      <th></th>\n",
       "      <th>index</th>\n",
       "      <th>title</th>\n",
       "      <th>text</th>\n",
       "      <th>subject</th>\n",
       "      <th>date</th>\n",
       "      <th>class</th>\n",
       "      <th>Unnamed: 6</th>\n",
       "    </tr>\n",
       "  </thead>\n",
       "  <tbody>\n",
       "    <tr>\n",
       "      <th>0</th>\n",
       "      <td>0</td>\n",
       "      <td>PRESIDENT TRUMP Explains New “America First” R...</td>\n",
       "      <td>That s what we re talking about! Another campa...</td>\n",
       "      <td>politics</td>\n",
       "      <td>Aug 2, 2017</td>\n",
       "      <td>Fake</td>\n",
       "      <td>NaN</td>\n",
       "    </tr>\n",
       "    <tr>\n",
       "      <th>1</th>\n",
       "      <td>1</td>\n",
       "      <td>TERMINALLY ILL FORMER MISS WI: “Until my last ...</td>\n",
       "      <td>How is it that Sean Hannity is the only media ...</td>\n",
       "      <td>politics</td>\n",
       "      <td>Oct 4, 2016</td>\n",
       "      <td>Fake</td>\n",
       "      <td>NaN</td>\n",
       "    </tr>\n",
       "    <tr>\n",
       "      <th>2</th>\n",
       "      <td>2</td>\n",
       "      <td>Cruz Humiliated By Moderator After Lie About ...</td>\n",
       "      <td>Almost immediately after learning that longtim...</td>\n",
       "      <td>News</td>\n",
       "      <td>February 13, 2016</td>\n",
       "      <td>Fake</td>\n",
       "      <td>NaN</td>\n",
       "    </tr>\n",
       "    <tr>\n",
       "      <th>3</th>\n",
       "      <td>3</td>\n",
       "      <td>Russia revels in Trump victory, looks to sanct...</td>\n",
       "      <td>MOSCOW (Reuters) - For all their mutual praise...</td>\n",
       "      <td>politicsNews</td>\n",
       "      <td>November 9, 2016</td>\n",
       "      <td>Real</td>\n",
       "      <td>NaN</td>\n",
       "    </tr>\n",
       "    <tr>\n",
       "      <th>4</th>\n",
       "      <td>4</td>\n",
       "      <td>Trump's bid to open U.S. monuments to developm...</td>\n",
       "      <td>WASHINGTON (Reuters) - The Trump administratio...</td>\n",
       "      <td>politicsNews</td>\n",
       "      <td>May 26, 2017</td>\n",
       "      <td>Real</td>\n",
       "      <td>NaN</td>\n",
       "    </tr>\n",
       "    <tr>\n",
       "      <th>5</th>\n",
       "      <td>5</td>\n",
       "      <td>UNREAL! HERE’S WHY ICE RELEASED BUT DIDN’T DEP...</td>\n",
       "      <td>THANK GOODNESS FOR THE CENTER FOR IMMIGRATION ...</td>\n",
       "      <td>Government News</td>\n",
       "      <td>Apr 28, 2016</td>\n",
       "      <td>Fake</td>\n",
       "      <td>NaN</td>\n",
       "    </tr>\n",
       "    <tr>\n",
       "      <th>6</th>\n",
       "      <td>6</td>\n",
       "      <td>CONSEQUENCES OF LIBERAL TOLERANCE: He Had An I...</td>\n",
       "      <td>Terrified concert goers fled an Ariana Grande ...</td>\n",
       "      <td>politics</td>\n",
       "      <td>May 25, 2017</td>\n",
       "      <td>Fake</td>\n",
       "      <td>NaN</td>\n",
       "    </tr>\n",
       "    <tr>\n",
       "      <th>7</th>\n",
       "      <td>7</td>\n",
       "      <td>U.S. NEWS and WORLD REPORT Publishes List Of T...</td>\n",
       "      <td>More than 21,000 people from all regions of th...</td>\n",
       "      <td>politics</td>\n",
       "      <td>Jul 13, 2017</td>\n",
       "      <td>Fake</td>\n",
       "      <td>NaN</td>\n",
       "    </tr>\n",
       "    <tr>\n",
       "      <th>8</th>\n",
       "      <td>8</td>\n",
       "      <td>Trump administration's NAFTA demands make sens...</td>\n",
       "      <td>DETROIT (Reuters) - The list of priorities U.S...</td>\n",
       "      <td>politicsNews</td>\n",
       "      <td>July 20, 2017</td>\n",
       "      <td>Real</td>\n",
       "      <td>NaN</td>\n",
       "    </tr>\n",
       "    <tr>\n",
       "      <th>9</th>\n",
       "      <td>9</td>\n",
       "      <td>Turks flock to social media for gold trader sa...</td>\n",
       "      <td>ANKARA (Reuters) - Allegations of wrongdoing b...</td>\n",
       "      <td>worldnews</td>\n",
       "      <td>December 1, 2017</td>\n",
       "      <td>Real</td>\n",
       "      <td>NaN</td>\n",
       "    </tr>\n",
       "  </tbody>\n",
       "</table>\n",
       "</div>"
      ],
      "text/plain": [
       "   index                                              title  \\\n",
       "0      0  PRESIDENT TRUMP Explains New “America First” R...   \n",
       "1      1  TERMINALLY ILL FORMER MISS WI: “Until my last ...   \n",
       "2      2   Cruz Humiliated By Moderator After Lie About ...   \n",
       "3      3  Russia revels in Trump victory, looks to sanct...   \n",
       "4      4  Trump's bid to open U.S. monuments to developm...   \n",
       "5      5  UNREAL! HERE’S WHY ICE RELEASED BUT DIDN’T DEP...   \n",
       "6      6  CONSEQUENCES OF LIBERAL TOLERANCE: He Had An I...   \n",
       "7      7  U.S. NEWS and WORLD REPORT Publishes List Of T...   \n",
       "8      8  Trump administration's NAFTA demands make sens...   \n",
       "9      9  Turks flock to social media for gold trader sa...   \n",
       "\n",
       "                                                text          subject  \\\n",
       "0  That s what we re talking about! Another campa...         politics   \n",
       "1  How is it that Sean Hannity is the only media ...         politics   \n",
       "2  Almost immediately after learning that longtim...             News   \n",
       "3  MOSCOW (Reuters) - For all their mutual praise...     politicsNews   \n",
       "4  WASHINGTON (Reuters) - The Trump administratio...     politicsNews   \n",
       "5  THANK GOODNESS FOR THE CENTER FOR IMMIGRATION ...  Government News   \n",
       "6  Terrified concert goers fled an Ariana Grande ...         politics   \n",
       "7  More than 21,000 people from all regions of th...         politics   \n",
       "8  DETROIT (Reuters) - The list of priorities U.S...     politicsNews   \n",
       "9  ANKARA (Reuters) - Allegations of wrongdoing b...        worldnews   \n",
       "\n",
       "                date class Unnamed: 6  \n",
       "0        Aug 2, 2017  Fake        NaN  \n",
       "1        Oct 4, 2016  Fake        NaN  \n",
       "2  February 13, 2016  Fake        NaN  \n",
       "3  November 9, 2016   Real        NaN  \n",
       "4      May 26, 2017   Real        NaN  \n",
       "5       Apr 28, 2016  Fake        NaN  \n",
       "6       May 25, 2017  Fake        NaN  \n",
       "7       Jul 13, 2017  Fake        NaN  \n",
       "8     July 20, 2017   Real        NaN  \n",
       "9  December 1, 2017   Real        NaN  "
      ]
     },
     "execution_count": 5,
     "metadata": {},
     "output_type": "execute_result"
    }
   ],
   "source": [
    "fake_news_data.head(10)"
   ]
  },
  {
   "cell_type": "code",
   "execution_count": 6,
   "metadata": {},
   "outputs": [
    {
     "data": {
      "text/html": [
       "<div>\n",
       "<style scoped>\n",
       "    .dataframe tbody tr th:only-of-type {\n",
       "        vertical-align: middle;\n",
       "    }\n",
       "\n",
       "    .dataframe tbody tr th {\n",
       "        vertical-align: top;\n",
       "    }\n",
       "\n",
       "    .dataframe thead th {\n",
       "        text-align: right;\n",
       "    }\n",
       "</style>\n",
       "<table border=\"1\" class=\"dataframe\">\n",
       "  <thead>\n",
       "    <tr style=\"text-align: right;\">\n",
       "      <th></th>\n",
       "      <th>0</th>\n",
       "      <th>1</th>\n",
       "    </tr>\n",
       "  </thead>\n",
       "  <tbody>\n",
       "    <tr>\n",
       "      <th>index</th>\n",
       "      <td>0</td>\n",
       "      <td>1</td>\n",
       "    </tr>\n",
       "    <tr>\n",
       "      <th>title</th>\n",
       "      <td>PRESIDENT TRUMP Explains New “America First” R...</td>\n",
       "      <td>TERMINALLY ILL FORMER MISS WI: “Until my last ...</td>\n",
       "    </tr>\n",
       "    <tr>\n",
       "      <th>text</th>\n",
       "      <td>That s what we re talking about! Another campa...</td>\n",
       "      <td>How is it that Sean Hannity is the only media ...</td>\n",
       "    </tr>\n",
       "    <tr>\n",
       "      <th>subject</th>\n",
       "      <td>politics</td>\n",
       "      <td>politics</td>\n",
       "    </tr>\n",
       "    <tr>\n",
       "      <th>date</th>\n",
       "      <td>Aug 2, 2017</td>\n",
       "      <td>Oct 4, 2016</td>\n",
       "    </tr>\n",
       "    <tr>\n",
       "      <th>class</th>\n",
       "      <td>Fake</td>\n",
       "      <td>Fake</td>\n",
       "    </tr>\n",
       "    <tr>\n",
       "      <th>Unnamed: 6</th>\n",
       "      <td>NaN</td>\n",
       "      <td>NaN</td>\n",
       "    </tr>\n",
       "  </tbody>\n",
       "</table>\n",
       "</div>"
      ],
      "text/plain": [
       "                                                            0  \\\n",
       "index                                                       0   \n",
       "title       PRESIDENT TRUMP Explains New “America First” R...   \n",
       "text        That s what we re talking about! Another campa...   \n",
       "subject                                              politics   \n",
       "date                                              Aug 2, 2017   \n",
       "class                                                    Fake   \n",
       "Unnamed: 6                                                NaN   \n",
       "\n",
       "                                                            1  \n",
       "index                                                       1  \n",
       "title       TERMINALLY ILL FORMER MISS WI: “Until my last ...  \n",
       "text        How is it that Sean Hannity is the only media ...  \n",
       "subject                                              politics  \n",
       "date                                              Oct 4, 2016  \n",
       "class                                                    Fake  \n",
       "Unnamed: 6                                                NaN  "
      ]
     },
     "execution_count": 6,
     "metadata": {},
     "output_type": "execute_result"
    }
   ],
   "source": [
    "fake_news_data.head(2).T"
   ]
  },
  {
   "cell_type": "code",
   "execution_count": 7,
   "metadata": {},
   "outputs": [
    {
     "data": {
      "text/html": [
       "<div>\n",
       "<style scoped>\n",
       "    .dataframe tbody tr th:only-of-type {\n",
       "        vertical-align: middle;\n",
       "    }\n",
       "\n",
       "    .dataframe tbody tr th {\n",
       "        vertical-align: top;\n",
       "    }\n",
       "\n",
       "    .dataframe thead th {\n",
       "        text-align: right;\n",
       "    }\n",
       "</style>\n",
       "<table border=\"1\" class=\"dataframe\">\n",
       "  <thead>\n",
       "    <tr style=\"text-align: right;\">\n",
       "      <th></th>\n",
       "      <th>index</th>\n",
       "    </tr>\n",
       "  </thead>\n",
       "  <tbody>\n",
       "    <tr>\n",
       "      <th>count</th>\n",
       "      <td>40000.00000</td>\n",
       "    </tr>\n",
       "    <tr>\n",
       "      <th>mean</th>\n",
       "      <td>19999.50000</td>\n",
       "    </tr>\n",
       "    <tr>\n",
       "      <th>std</th>\n",
       "      <td>11547.14972</td>\n",
       "    </tr>\n",
       "    <tr>\n",
       "      <th>min</th>\n",
       "      <td>0.00000</td>\n",
       "    </tr>\n",
       "    <tr>\n",
       "      <th>25%</th>\n",
       "      <td>9999.75000</td>\n",
       "    </tr>\n",
       "    <tr>\n",
       "      <th>50%</th>\n",
       "      <td>19999.50000</td>\n",
       "    </tr>\n",
       "    <tr>\n",
       "      <th>75%</th>\n",
       "      <td>29999.25000</td>\n",
       "    </tr>\n",
       "    <tr>\n",
       "      <th>max</th>\n",
       "      <td>39999.00000</td>\n",
       "    </tr>\n",
       "  </tbody>\n",
       "</table>\n",
       "</div>"
      ],
      "text/plain": [
       "             index\n",
       "count  40000.00000\n",
       "mean   19999.50000\n",
       "std    11547.14972\n",
       "min        0.00000\n",
       "25%     9999.75000\n",
       "50%    19999.50000\n",
       "75%    29999.25000\n",
       "max    39999.00000"
      ]
     },
     "execution_count": 7,
     "metadata": {},
     "output_type": "execute_result"
    }
   ],
   "source": [
    "fake_news_data.describe()"
   ]
  },
  {
   "cell_type": "code",
   "execution_count": 8,
   "metadata": {},
   "outputs": [
    {
     "data": {
      "text/plain": [
       "index             0\n",
       "title             0\n",
       "text              0\n",
       "subject           0\n",
       "date              0\n",
       "class             0\n",
       "Unnamed: 6    39999\n",
       "dtype: int64"
      ]
     },
     "execution_count": 8,
     "metadata": {},
     "output_type": "execute_result"
    }
   ],
   "source": [
    "fake_news_data.isna().sum()"
   ]
  },
  {
   "cell_type": "code",
   "execution_count": 9,
   "metadata": {},
   "outputs": [
    {
     "data": {
      "text/plain": [
       "Fake                20886\n",
       "Real                19113\n",
       "February 5, 2017        1\n",
       "Name: class, dtype: int64"
      ]
     },
     "execution_count": 9,
     "metadata": {},
     "output_type": "execute_result"
    }
   ],
   "source": [
    "fake_news_data['class'].value_counts()"
   ]
  },
  {
   "cell_type": "code",
   "execution_count": 10,
   "metadata": {},
   "outputs": [
    {
     "ename": "SyntaxError",
     "evalue": "invalid syntax (<ipython-input-10-488276203db6>, line 1)",
     "output_type": "error",
     "traceback": [
      "\u001b[1;36m  File \u001b[1;32m\"<ipython-input-10-488276203db6>\"\u001b[1;36m, line \u001b[1;32m1\u001b[0m\n\u001b[1;33m    fake_news_data.\u001b[0m\n\u001b[1;37m                   ^\u001b[0m\n\u001b[1;31mSyntaxError\u001b[0m\u001b[1;31m:\u001b[0m invalid syntax\n"
     ]
    }
   ],
   "source": [
    "fake_news_data.\n",
    "\n",
    "#why not \n",
    "#fake_news_data.class"
   ]
  },
  {
   "cell_type": "code",
   "execution_count": null,
   "metadata": {},
   "outputs": [],
   "source": []
  }
 ],
 "metadata": {
  "kernelspec": {
   "display_name": "Python 3",
   "language": "python",
   "name": "python3"
  },
  "language_info": {
   "codemirror_mode": {
    "name": "ipython",
    "version": 3
   },
   "file_extension": ".py",
   "mimetype": "text/x-python",
   "name": "python",
   "nbconvert_exporter": "python",
   "pygments_lexer": "ipython3",
   "version": "3.8.5"
  }
 },
 "nbformat": 4,
 "nbformat_minor": 4
}
