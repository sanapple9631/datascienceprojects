{
 "cells": [
  {
   "cell_type": "markdown",
   "metadata": {},
   "source": [
    "### Algoscale assignment"
   ]
  },
  {
   "cell_type": "markdown",
   "metadata": {},
   "source": [
    "### The problem statement\n",
    "\n",
    "#### ROUND : DATA SCIENCE CASE-STUDY\n",
    "### Introduction\n",
    "\n",
    "- This data set is a Beer data-set for your Data Science case-study round. You are expected to build a Machine Learning model which predicts the overall rating of the beer. (“review/overall” column in “train.csv” is your dependent variable.)\n",
    "- You are free to formulate this prediction problem either as a classification problem or regression problem.\n",
    "\n",
    "\n",
    "#### Inspiration\n",
    "Here are a few questions which you may ask yourself and which may help you with this dataset:\n",
    "- 1. How can you use \"beer/name\", \"beer/style\" and \"review/text\" as features to predict the overall rating of the beer ?\n",
    "- 2. Are there any words that strongly predict the overall rating of the beer ?\n",
    "- 3. How can you use other columns in train.csv to derive robust and effective features from them, which can help to predict the overall rating of the beer ?\n",
    "\n",
    "#### Expectations from this Task (expect in-depth discussions over your code, approach and methodologies in later rounds):\n",
    "* 1. Data cleaning and Data preprocessing\n",
    "* 2. Feature Engineering\n",
    "* 3. Modelling using 1-2 ML models of your choice\n",
    "* 4. At Least 2-3 Model Validation metricsData fields\n",
    "\n",
    "#### The train.csv contains the following columns:\n",
    "● index - an identifier for the review\n",
    "\n",
    "● beer/ABV - the alcohol by volume of the beer\n",
    "\n",
    "● beer/beerId - a unique ID indicating the beer reviewed\n",
    "\n",
    "● beer/brewerId - a unique ID indicating the brewery\n",
    "\n",
    "● beer/name - name of the beer\n",
    "\n",
    "● beer/style\n",
    "\n",
    "● review/appearance - rating of the beer's appearance (1.0 to 5.0)\n",
    "\n",
    "● review/aroma - rating of the beer's aroma (1.0 to 5.0)\n",
    "\n",
    "● review/overall - rating of the beer overall (1.0 to 5.0)\n",
    "\n",
    "● review/palate - rating of the beer's palate (1.0 to 5.0)\n",
    "\n",
    "● review/taste - rating of the beer's taste (1.0 to 5.0)\n",
    "\n",
    "● review/text - the text of the review\n",
    "\n",
    "● review/timeStruct - a dict specifying when the review was submitted\n",
    "\n",
    "● review/timeUnix\n",
    "\n",
    "● user/ageInSeconds - age of the user in seconds\n",
    "\n",
    "● user/birthdayRaw\n",
    "\n",
    "● user/birthdayUnix\n",
    "\n",
    "● user/gender - gender of the user (if specified)\n",
    "\n",
    "● user/profileName - profile name of the user\n",
    "\n",
    "#### PREFERRED LANGUAGE:\n",
    "Python or R"
   ]
  },
  {
   "cell_type": "markdown",
   "metadata": {},
   "source": [
    "#### Import the libraries"
   ]
  },
  {
   "cell_type": "code",
   "execution_count": 1,
   "metadata": {},
   "outputs": [],
   "source": [
    "import numpy as np\n",
    "import pandas as pd\n",
    "import seaborn as sns\n",
    "import matplotlib.pyplot as plt\n",
    "%matplotlib inline"
   ]
  },
  {
   "cell_type": "code",
   "execution_count": 2,
   "metadata": {},
   "outputs": [],
   "source": [
    "df = pd.read_csv(\"train.csv\")"
   ]
  },
  {
   "cell_type": "code",
   "execution_count": 3,
   "metadata": {},
   "outputs": [
    {
     "data": {
      "text/html": [
       "<div>\n",
       "<style scoped>\n",
       "    .dataframe tbody tr th:only-of-type {\n",
       "        vertical-align: middle;\n",
       "    }\n",
       "\n",
       "    .dataframe tbody tr th {\n",
       "        vertical-align: top;\n",
       "    }\n",
       "\n",
       "    .dataframe thead th {\n",
       "        text-align: right;\n",
       "    }\n",
       "</style>\n",
       "<table border=\"1\" class=\"dataframe\">\n",
       "  <thead>\n",
       "    <tr style=\"text-align: right;\">\n",
       "      <th></th>\n",
       "      <th>index</th>\n",
       "      <th>beer/ABV</th>\n",
       "      <th>beer/beerId</th>\n",
       "      <th>beer/brewerId</th>\n",
       "      <th>beer/name</th>\n",
       "      <th>beer/style</th>\n",
       "      <th>review/appearance</th>\n",
       "      <th>review/aroma</th>\n",
       "      <th>review/overall</th>\n",
       "      <th>review/palate</th>\n",
       "      <th>review/taste</th>\n",
       "      <th>review/text</th>\n",
       "      <th>review/timeStruct</th>\n",
       "      <th>review/timeUnix</th>\n",
       "      <th>user/ageInSeconds</th>\n",
       "      <th>user/birthdayRaw</th>\n",
       "      <th>user/birthdayUnix</th>\n",
       "      <th>user/gender</th>\n",
       "      <th>user/profileName</th>\n",
       "    </tr>\n",
       "  </thead>\n",
       "  <tbody>\n",
       "    <tr>\n",
       "      <th>0</th>\n",
       "      <td>40163</td>\n",
       "      <td>5.0</td>\n",
       "      <td>46634</td>\n",
       "      <td>14338</td>\n",
       "      <td>Chiostro</td>\n",
       "      <td>Herbed / Spiced Beer</td>\n",
       "      <td>4.0</td>\n",
       "      <td>4.0</td>\n",
       "      <td>4.0</td>\n",
       "      <td>4.0</td>\n",
       "      <td>4.0</td>\n",
       "      <td>Pours a clouded gold with a thin white head. N...</td>\n",
       "      <td>{'min': 38, 'hour': 3, 'mday': 16, 'sec': 10, ...</td>\n",
       "      <td>1229398690</td>\n",
       "      <td>NaN</td>\n",
       "      <td>NaN</td>\n",
       "      <td>NaN</td>\n",
       "      <td>NaN</td>\n",
       "      <td>RblWthACoz</td>\n",
       "    </tr>\n",
       "    <tr>\n",
       "      <th>1</th>\n",
       "      <td>8135</td>\n",
       "      <td>11.0</td>\n",
       "      <td>3003</td>\n",
       "      <td>395</td>\n",
       "      <td>Bearded Pat's Barleywine</td>\n",
       "      <td>American Barleywine</td>\n",
       "      <td>4.0</td>\n",
       "      <td>3.5</td>\n",
       "      <td>3.5</td>\n",
       "      <td>3.5</td>\n",
       "      <td>3.0</td>\n",
       "      <td>12oz bottle into 8oz snifter.\\t\\tDeep ruby red...</td>\n",
       "      <td>{'min': 38, 'hour': 23, 'mday': 8, 'sec': 58, ...</td>\n",
       "      <td>1218238738</td>\n",
       "      <td>NaN</td>\n",
       "      <td>NaN</td>\n",
       "      <td>NaN</td>\n",
       "      <td>NaN</td>\n",
       "      <td>BeerSox</td>\n",
       "    </tr>\n",
       "    <tr>\n",
       "      <th>2</th>\n",
       "      <td>10529</td>\n",
       "      <td>4.7</td>\n",
       "      <td>961</td>\n",
       "      <td>365</td>\n",
       "      <td>Naughty Nellie's Ale</td>\n",
       "      <td>American Pale Ale (APA)</td>\n",
       "      <td>3.5</td>\n",
       "      <td>4.0</td>\n",
       "      <td>3.5</td>\n",
       "      <td>3.5</td>\n",
       "      <td>3.5</td>\n",
       "      <td>First enjoyed at the brewpub about 2 years ago...</td>\n",
       "      <td>{'min': 7, 'hour': 18, 'mday': 26, 'sec': 2, '...</td>\n",
       "      <td>1101492422</td>\n",
       "      <td>NaN</td>\n",
       "      <td>NaN</td>\n",
       "      <td>NaN</td>\n",
       "      <td>Male</td>\n",
       "      <td>mschofield</td>\n",
       "    </tr>\n",
       "    <tr>\n",
       "      <th>3</th>\n",
       "      <td>44610</td>\n",
       "      <td>4.4</td>\n",
       "      <td>429</td>\n",
       "      <td>1</td>\n",
       "      <td>Pilsner Urquell</td>\n",
       "      <td>Czech Pilsener</td>\n",
       "      <td>3.0</td>\n",
       "      <td>3.0</td>\n",
       "      <td>2.5</td>\n",
       "      <td>3.0</td>\n",
       "      <td>3.0</td>\n",
       "      <td>First thing I noticed after pouring from green...</td>\n",
       "      <td>{'min': 7, 'hour': 1, 'mday': 20, 'sec': 5, 'y...</td>\n",
       "      <td>1308532025</td>\n",
       "      <td>1.209827e+09</td>\n",
       "      <td>Aug 10, 1976</td>\n",
       "      <td>208508400.0</td>\n",
       "      <td>Male</td>\n",
       "      <td>molegar76</td>\n",
       "    </tr>\n",
       "    <tr>\n",
       "      <th>4</th>\n",
       "      <td>37062</td>\n",
       "      <td>4.4</td>\n",
       "      <td>4904</td>\n",
       "      <td>1417</td>\n",
       "      <td>Black Sheep Ale (Special)</td>\n",
       "      <td>English Pale Ale</td>\n",
       "      <td>4.0</td>\n",
       "      <td>3.0</td>\n",
       "      <td>3.0</td>\n",
       "      <td>3.5</td>\n",
       "      <td>2.5</td>\n",
       "      <td>A: pours an amber with a one finger head but o...</td>\n",
       "      <td>{'min': 51, 'hour': 6, 'mday': 12, 'sec': 48, ...</td>\n",
       "      <td>1299912708</td>\n",
       "      <td>NaN</td>\n",
       "      <td>NaN</td>\n",
       "      <td>NaN</td>\n",
       "      <td>NaN</td>\n",
       "      <td>Brewbro000</td>\n",
       "    </tr>\n",
       "  </tbody>\n",
       "</table>\n",
       "</div>"
      ],
      "text/plain": [
       "   index  beer/ABV  beer/beerId  beer/brewerId                  beer/name  \\\n",
       "0  40163       5.0        46634          14338                   Chiostro   \n",
       "1   8135      11.0         3003            395   Bearded Pat's Barleywine   \n",
       "2  10529       4.7          961            365       Naughty Nellie's Ale   \n",
       "3  44610       4.4          429              1            Pilsner Urquell   \n",
       "4  37062       4.4         4904           1417  Black Sheep Ale (Special)   \n",
       "\n",
       "                beer/style  review/appearance  review/aroma  review/overall  \\\n",
       "0     Herbed / Spiced Beer                4.0           4.0             4.0   \n",
       "1      American Barleywine                4.0           3.5             3.5   \n",
       "2  American Pale Ale (APA)                3.5           4.0             3.5   \n",
       "3           Czech Pilsener                3.0           3.0             2.5   \n",
       "4         English Pale Ale                4.0           3.0             3.0   \n",
       "\n",
       "   review/palate  review/taste  \\\n",
       "0            4.0           4.0   \n",
       "1            3.5           3.0   \n",
       "2            3.5           3.5   \n",
       "3            3.0           3.0   \n",
       "4            3.5           2.5   \n",
       "\n",
       "                                         review/text  \\\n",
       "0  Pours a clouded gold with a thin white head. N...   \n",
       "1  12oz bottle into 8oz snifter.\\t\\tDeep ruby red...   \n",
       "2  First enjoyed at the brewpub about 2 years ago...   \n",
       "3  First thing I noticed after pouring from green...   \n",
       "4  A: pours an amber with a one finger head but o...   \n",
       "\n",
       "                                   review/timeStruct  review/timeUnix  \\\n",
       "0  {'min': 38, 'hour': 3, 'mday': 16, 'sec': 10, ...       1229398690   \n",
       "1  {'min': 38, 'hour': 23, 'mday': 8, 'sec': 58, ...       1218238738   \n",
       "2  {'min': 7, 'hour': 18, 'mday': 26, 'sec': 2, '...       1101492422   \n",
       "3  {'min': 7, 'hour': 1, 'mday': 20, 'sec': 5, 'y...       1308532025   \n",
       "4  {'min': 51, 'hour': 6, 'mday': 12, 'sec': 48, ...       1299912708   \n",
       "\n",
       "   user/ageInSeconds user/birthdayRaw  user/birthdayUnix user/gender  \\\n",
       "0                NaN              NaN                NaN         NaN   \n",
       "1                NaN              NaN                NaN         NaN   \n",
       "2                NaN              NaN                NaN        Male   \n",
       "3       1.209827e+09     Aug 10, 1976        208508400.0        Male   \n",
       "4                NaN              NaN                NaN         NaN   \n",
       "\n",
       "  user/profileName  \n",
       "0       RblWthACoz  \n",
       "1          BeerSox  \n",
       "2       mschofield  \n",
       "3        molegar76  \n",
       "4       Brewbro000  "
      ]
     },
     "execution_count": 3,
     "metadata": {},
     "output_type": "execute_result"
    }
   ],
   "source": [
    "df.head()"
   ]
  },
  {
   "cell_type": "code",
   "execution_count": 4,
   "metadata": {},
   "outputs": [
    {
     "data": {
      "text/html": [
       "<div>\n",
       "<style scoped>\n",
       "    .dataframe tbody tr th:only-of-type {\n",
       "        vertical-align: middle;\n",
       "    }\n",
       "\n",
       "    .dataframe tbody tr th {\n",
       "        vertical-align: top;\n",
       "    }\n",
       "\n",
       "    .dataframe thead th {\n",
       "        text-align: right;\n",
       "    }\n",
       "</style>\n",
       "<table border=\"1\" class=\"dataframe\">\n",
       "  <thead>\n",
       "    <tr style=\"text-align: right;\">\n",
       "      <th></th>\n",
       "      <th>0</th>\n",
       "      <th>1</th>\n",
       "    </tr>\n",
       "  </thead>\n",
       "  <tbody>\n",
       "    <tr>\n",
       "      <th>index</th>\n",
       "      <td>40163</td>\n",
       "      <td>8135</td>\n",
       "    </tr>\n",
       "    <tr>\n",
       "      <th>beer/ABV</th>\n",
       "      <td>5</td>\n",
       "      <td>11</td>\n",
       "    </tr>\n",
       "    <tr>\n",
       "      <th>beer/beerId</th>\n",
       "      <td>46634</td>\n",
       "      <td>3003</td>\n",
       "    </tr>\n",
       "    <tr>\n",
       "      <th>beer/brewerId</th>\n",
       "      <td>14338</td>\n",
       "      <td>395</td>\n",
       "    </tr>\n",
       "    <tr>\n",
       "      <th>beer/name</th>\n",
       "      <td>Chiostro</td>\n",
       "      <td>Bearded Pat's Barleywine</td>\n",
       "    </tr>\n",
       "    <tr>\n",
       "      <th>beer/style</th>\n",
       "      <td>Herbed / Spiced Beer</td>\n",
       "      <td>American Barleywine</td>\n",
       "    </tr>\n",
       "    <tr>\n",
       "      <th>review/appearance</th>\n",
       "      <td>4</td>\n",
       "      <td>4</td>\n",
       "    </tr>\n",
       "    <tr>\n",
       "      <th>review/aroma</th>\n",
       "      <td>4</td>\n",
       "      <td>3.5</td>\n",
       "    </tr>\n",
       "    <tr>\n",
       "      <th>review/overall</th>\n",
       "      <td>4</td>\n",
       "      <td>3.5</td>\n",
       "    </tr>\n",
       "    <tr>\n",
       "      <th>review/palate</th>\n",
       "      <td>4</td>\n",
       "      <td>3.5</td>\n",
       "    </tr>\n",
       "    <tr>\n",
       "      <th>review/taste</th>\n",
       "      <td>4</td>\n",
       "      <td>3</td>\n",
       "    </tr>\n",
       "    <tr>\n",
       "      <th>review/text</th>\n",
       "      <td>Pours a clouded gold with a thin white head. N...</td>\n",
       "      <td>12oz bottle into 8oz snifter.\\t\\tDeep ruby red...</td>\n",
       "    </tr>\n",
       "    <tr>\n",
       "      <th>review/timeStruct</th>\n",
       "      <td>{'min': 38, 'hour': 3, 'mday': 16, 'sec': 10, ...</td>\n",
       "      <td>{'min': 38, 'hour': 23, 'mday': 8, 'sec': 58, ...</td>\n",
       "    </tr>\n",
       "    <tr>\n",
       "      <th>review/timeUnix</th>\n",
       "      <td>1229398690</td>\n",
       "      <td>1218238738</td>\n",
       "    </tr>\n",
       "    <tr>\n",
       "      <th>user/ageInSeconds</th>\n",
       "      <td>NaN</td>\n",
       "      <td>NaN</td>\n",
       "    </tr>\n",
       "    <tr>\n",
       "      <th>user/birthdayRaw</th>\n",
       "      <td>NaN</td>\n",
       "      <td>NaN</td>\n",
       "    </tr>\n",
       "    <tr>\n",
       "      <th>user/birthdayUnix</th>\n",
       "      <td>NaN</td>\n",
       "      <td>NaN</td>\n",
       "    </tr>\n",
       "    <tr>\n",
       "      <th>user/gender</th>\n",
       "      <td>NaN</td>\n",
       "      <td>NaN</td>\n",
       "    </tr>\n",
       "    <tr>\n",
       "      <th>user/profileName</th>\n",
       "      <td>RblWthACoz</td>\n",
       "      <td>BeerSox</td>\n",
       "    </tr>\n",
       "  </tbody>\n",
       "</table>\n",
       "</div>"
      ],
      "text/plain": [
       "                                                                   0  \\\n",
       "index                                                          40163   \n",
       "beer/ABV                                                           5   \n",
       "beer/beerId                                                    46634   \n",
       "beer/brewerId                                                  14338   \n",
       "beer/name                                                   Chiostro   \n",
       "beer/style                                      Herbed / Spiced Beer   \n",
       "review/appearance                                                  4   \n",
       "review/aroma                                                       4   \n",
       "review/overall                                                     4   \n",
       "review/palate                                                      4   \n",
       "review/taste                                                       4   \n",
       "review/text        Pours a clouded gold with a thin white head. N...   \n",
       "review/timeStruct  {'min': 38, 'hour': 3, 'mday': 16, 'sec': 10, ...   \n",
       "review/timeUnix                                           1229398690   \n",
       "user/ageInSeconds                                                NaN   \n",
       "user/birthdayRaw                                                 NaN   \n",
       "user/birthdayUnix                                                NaN   \n",
       "user/gender                                                      NaN   \n",
       "user/profileName                                          RblWthACoz   \n",
       "\n",
       "                                                                   1  \n",
       "index                                                           8135  \n",
       "beer/ABV                                                          11  \n",
       "beer/beerId                                                     3003  \n",
       "beer/brewerId                                                    395  \n",
       "beer/name                                   Bearded Pat's Barleywine  \n",
       "beer/style                                       American Barleywine  \n",
       "review/appearance                                                  4  \n",
       "review/aroma                                                     3.5  \n",
       "review/overall                                                   3.5  \n",
       "review/palate                                                    3.5  \n",
       "review/taste                                                       3  \n",
       "review/text        12oz bottle into 8oz snifter.\\t\\tDeep ruby red...  \n",
       "review/timeStruct  {'min': 38, 'hour': 23, 'mday': 8, 'sec': 58, ...  \n",
       "review/timeUnix                                           1218238738  \n",
       "user/ageInSeconds                                                NaN  \n",
       "user/birthdayRaw                                                 NaN  \n",
       "user/birthdayUnix                                                NaN  \n",
       "user/gender                                                      NaN  \n",
       "user/profileName                                             BeerSox  "
      ]
     },
     "execution_count": 4,
     "metadata": {},
     "output_type": "execute_result"
    }
   ],
   "source": [
    "df.head(2).T"
   ]
  },
  {
   "cell_type": "code",
   "execution_count": 5,
   "metadata": {},
   "outputs": [
    {
     "data": {
      "text/plain": [
       "(37500, 19)"
      ]
     },
     "execution_count": 5,
     "metadata": {},
     "output_type": "execute_result"
    }
   ],
   "source": [
    "df.shape"
   ]
  },
  {
   "cell_type": "code",
   "execution_count": 6,
   "metadata": {},
   "outputs": [
    {
     "data": {
      "text/plain": [
       "Index(['index', 'beer/ABV', 'beer/beerId', 'beer/brewerId', 'beer/name',\n",
       "       'beer/style', 'review/appearance', 'review/aroma', 'review/overall',\n",
       "       'review/palate', 'review/taste', 'review/text', 'review/timeStruct',\n",
       "       'review/timeUnix', 'user/ageInSeconds', 'user/birthdayRaw',\n",
       "       'user/birthdayUnix', 'user/gender', 'user/profileName'],\n",
       "      dtype='object')"
      ]
     },
     "execution_count": 6,
     "metadata": {},
     "output_type": "execute_result"
    }
   ],
   "source": [
    "df.columns"
   ]
  },
  {
   "cell_type": "code",
   "execution_count": 57,
   "metadata": {},
   "outputs": [],
   "source": [
    "df.rename(columns = {'index':'review_ID','beer/ABV':'alcohol_volume','beer/beerId':'beerID',\n",
    "                    'beer/brewerId':'brewerID','beer/name':'name','beer/style':'style','review/appearance':'rating_appearance',\n",
    "                     'review/aroma':'rating_aroma','review/overall':'rating_overall','review/palate':'rating_palate','review/taste':'rating_taste',\n",
    "                     'review/text':'review_text','review/timeStruct':'review_time','review/timeUnix':'review_timeUnix',\n",
    "                     'user/ageInSeconds':'user_ageInSeconds','user/birthdayRaw':'user_birthday',\n",
    "                     'user/birthdayUnix':'user_birthdayUnix',\n",
    "                     \n",
    "                    }, inplace = True) "
   ]
  },
  {
   "cell_type": "code",
   "execution_count": 56,
   "metadata": {},
   "outputs": [
    {
     "data": {
      "text/html": [
       "<div>\n",
       "<style scoped>\n",
       "    .dataframe tbody tr th:only-of-type {\n",
       "        vertical-align: middle;\n",
       "    }\n",
       "\n",
       "    .dataframe tbody tr th {\n",
       "        vertical-align: top;\n",
       "    }\n",
       "\n",
       "    .dataframe thead th {\n",
       "        text-align: right;\n",
       "    }\n",
       "</style>\n",
       "<table border=\"1\" class=\"dataframe\">\n",
       "  <thead>\n",
       "    <tr style=\"text-align: right;\">\n",
       "      <th></th>\n",
       "      <th>reviewid</th>\n",
       "      <th>alcohol_value</th>\n",
       "      <th>beer/beerId</th>\n",
       "      <th>beer/brewerId</th>\n",
       "      <th>beer/name</th>\n",
       "      <th>beer/style</th>\n",
       "      <th>review/appearance</th>\n",
       "      <th>review/aroma</th>\n",
       "      <th>review/overall</th>\n",
       "      <th>review/palate</th>\n",
       "      <th>review/taste</th>\n",
       "      <th>review/text</th>\n",
       "    </tr>\n",
       "  </thead>\n",
       "  <tbody>\n",
       "    <tr>\n",
       "      <th>0</th>\n",
       "      <td>40163</td>\n",
       "      <td>5.00</td>\n",
       "      <td>46634</td>\n",
       "      <td>14338</td>\n",
       "      <td>Chiostro</td>\n",
       "      <td>Herbed / Spiced Beer</td>\n",
       "      <td>4.0</td>\n",
       "      <td>4.0</td>\n",
       "      <td>4.0</td>\n",
       "      <td>4.0</td>\n",
       "      <td>4.0</td>\n",
       "      <td>Pours a clouded gold with a thin white head. N...</td>\n",
       "    </tr>\n",
       "    <tr>\n",
       "      <th>1</th>\n",
       "      <td>8135</td>\n",
       "      <td>11.00</td>\n",
       "      <td>3003</td>\n",
       "      <td>395</td>\n",
       "      <td>Bearded Pat's Barleywine</td>\n",
       "      <td>American Barleywine</td>\n",
       "      <td>4.0</td>\n",
       "      <td>3.5</td>\n",
       "      <td>3.5</td>\n",
       "      <td>3.5</td>\n",
       "      <td>3.0</td>\n",
       "      <td>12oz bottle into 8oz snifter.\\t\\tDeep ruby red...</td>\n",
       "    </tr>\n",
       "    <tr>\n",
       "      <th>2</th>\n",
       "      <td>10529</td>\n",
       "      <td>4.70</td>\n",
       "      <td>961</td>\n",
       "      <td>365</td>\n",
       "      <td>Naughty Nellie's Ale</td>\n",
       "      <td>American Pale Ale (APA)</td>\n",
       "      <td>3.5</td>\n",
       "      <td>4.0</td>\n",
       "      <td>3.5</td>\n",
       "      <td>3.5</td>\n",
       "      <td>3.5</td>\n",
       "      <td>First enjoyed at the brewpub about 2 years ago...</td>\n",
       "    </tr>\n",
       "    <tr>\n",
       "      <th>3</th>\n",
       "      <td>44610</td>\n",
       "      <td>4.40</td>\n",
       "      <td>429</td>\n",
       "      <td>1</td>\n",
       "      <td>Pilsner Urquell</td>\n",
       "      <td>Czech Pilsener</td>\n",
       "      <td>3.0</td>\n",
       "      <td>3.0</td>\n",
       "      <td>2.5</td>\n",
       "      <td>3.0</td>\n",
       "      <td>3.0</td>\n",
       "      <td>First thing I noticed after pouring from green...</td>\n",
       "    </tr>\n",
       "    <tr>\n",
       "      <th>4</th>\n",
       "      <td>37062</td>\n",
       "      <td>4.40</td>\n",
       "      <td>4904</td>\n",
       "      <td>1417</td>\n",
       "      <td>Black Sheep Ale (Special)</td>\n",
       "      <td>English Pale Ale</td>\n",
       "      <td>4.0</td>\n",
       "      <td>3.0</td>\n",
       "      <td>3.0</td>\n",
       "      <td>3.5</td>\n",
       "      <td>2.5</td>\n",
       "      <td>A: pours an amber with a one finger head but o...</td>\n",
       "    </tr>\n",
       "    <tr>\n",
       "      <th>...</th>\n",
       "      <td>...</td>\n",
       "      <td>...</td>\n",
       "      <td>...</td>\n",
       "      <td>...</td>\n",
       "      <td>...</td>\n",
       "      <td>...</td>\n",
       "      <td>...</td>\n",
       "      <td>...</td>\n",
       "      <td>...</td>\n",
       "      <td>...</td>\n",
       "      <td>...</td>\n",
       "      <td>...</td>\n",
       "    </tr>\n",
       "    <tr>\n",
       "      <th>37495</th>\n",
       "      <td>35175</td>\n",
       "      <td>5.50</td>\n",
       "      <td>22450</td>\n",
       "      <td>3268</td>\n",
       "      <td>Blackberry Scottish-Style</td>\n",
       "      <td>Fruit / Vegetable Beer</td>\n",
       "      <td>4.0</td>\n",
       "      <td>3.5</td>\n",
       "      <td>3.5</td>\n",
       "      <td>3.5</td>\n",
       "      <td>3.5</td>\n",
       "      <td>12 oz brown longneck with no freshness dating....</td>\n",
       "    </tr>\n",
       "    <tr>\n",
       "      <th>37496</th>\n",
       "      <td>23666</td>\n",
       "      <td>8.50</td>\n",
       "      <td>7463</td>\n",
       "      <td>1199</td>\n",
       "      <td>Founders Dirty Bastard</td>\n",
       "      <td>Scotch Ale / Wee Heavy</td>\n",
       "      <td>4.5</td>\n",
       "      <td>4.0</td>\n",
       "      <td>3.5</td>\n",
       "      <td>4.5</td>\n",
       "      <td>4.5</td>\n",
       "      <td>A - A bright red with a maroon-amber hue; mini...</td>\n",
       "    </tr>\n",
       "    <tr>\n",
       "      <th>37497</th>\n",
       "      <td>47720</td>\n",
       "      <td>4.75</td>\n",
       "      <td>1154</td>\n",
       "      <td>394</td>\n",
       "      <td>Stoudt's Fest</td>\n",
       "      <td>MÃ¤rzen / Oktoberfest</td>\n",
       "      <td>4.0</td>\n",
       "      <td>3.5</td>\n",
       "      <td>4.0</td>\n",
       "      <td>4.5</td>\n",
       "      <td>4.0</td>\n",
       "      <td>Sampled on tap at Redbones.\\t\\tThis marzen sty...</td>\n",
       "    </tr>\n",
       "    <tr>\n",
       "      <th>37498</th>\n",
       "      <td>33233</td>\n",
       "      <td>11.20</td>\n",
       "      <td>19960</td>\n",
       "      <td>1199</td>\n",
       "      <td>Founders KBS (Kentucky Breakfast Stout)</td>\n",
       "      <td>American Double / Imperial Stout</td>\n",
       "      <td>4.0</td>\n",
       "      <td>4.0</td>\n",
       "      <td>4.0</td>\n",
       "      <td>5.0</td>\n",
       "      <td>5.0</td>\n",
       "      <td>Pours a black body with a brown head that very...</td>\n",
       "    </tr>\n",
       "    <tr>\n",
       "      <th>37499</th>\n",
       "      <td>23758</td>\n",
       "      <td>8.50</td>\n",
       "      <td>7463</td>\n",
       "      <td>1199</td>\n",
       "      <td>Founders Dirty Bastard</td>\n",
       "      <td>Scotch Ale / Wee Heavy</td>\n",
       "      <td>4.0</td>\n",
       "      <td>4.0</td>\n",
       "      <td>4.0</td>\n",
       "      <td>4.5</td>\n",
       "      <td>4.0</td>\n",
       "      <td>A nice sweet, malty beer...nothing complex, ju...</td>\n",
       "    </tr>\n",
       "  </tbody>\n",
       "</table>\n",
       "<p>37500 rows × 12 columns</p>\n",
       "</div>"
      ],
      "text/plain": [
       "       reviewid  alcohol_value  beer/beerId  beer/brewerId  \\\n",
       "0         40163           5.00        46634          14338   \n",
       "1          8135          11.00         3003            395   \n",
       "2         10529           4.70          961            365   \n",
       "3         44610           4.40          429              1   \n",
       "4         37062           4.40         4904           1417   \n",
       "...         ...            ...          ...            ...   \n",
       "37495     35175           5.50        22450           3268   \n",
       "37496     23666           8.50         7463           1199   \n",
       "37497     47720           4.75         1154            394   \n",
       "37498     33233          11.20        19960           1199   \n",
       "37499     23758           8.50         7463           1199   \n",
       "\n",
       "                                     beer/name  \\\n",
       "0                                     Chiostro   \n",
       "1                     Bearded Pat's Barleywine   \n",
       "2                         Naughty Nellie's Ale   \n",
       "3                              Pilsner Urquell   \n",
       "4                    Black Sheep Ale (Special)   \n",
       "...                                        ...   \n",
       "37495                Blackberry Scottish-Style   \n",
       "37496                   Founders Dirty Bastard   \n",
       "37497                            Stoudt's Fest   \n",
       "37498  Founders KBS (Kentucky Breakfast Stout)   \n",
       "37499                   Founders Dirty Bastard   \n",
       "\n",
       "                             beer/style  review/appearance  review/aroma  \\\n",
       "0                  Herbed / Spiced Beer                4.0           4.0   \n",
       "1                   American Barleywine                4.0           3.5   \n",
       "2               American Pale Ale (APA)                3.5           4.0   \n",
       "3                        Czech Pilsener                3.0           3.0   \n",
       "4                      English Pale Ale                4.0           3.0   \n",
       "...                                 ...                ...           ...   \n",
       "37495            Fruit / Vegetable Beer                4.0           3.5   \n",
       "37496            Scotch Ale / Wee Heavy                4.5           4.0   \n",
       "37497             MÃ¤rzen / Oktoberfest                4.0           3.5   \n",
       "37498  American Double / Imperial Stout                4.0           4.0   \n",
       "37499            Scotch Ale / Wee Heavy                4.0           4.0   \n",
       "\n",
       "       review/overall  review/palate  review/taste  \\\n",
       "0                 4.0            4.0           4.0   \n",
       "1                 3.5            3.5           3.0   \n",
       "2                 3.5            3.5           3.5   \n",
       "3                 2.5            3.0           3.0   \n",
       "4                 3.0            3.5           2.5   \n",
       "...               ...            ...           ...   \n",
       "37495             3.5            3.5           3.5   \n",
       "37496             3.5            4.5           4.5   \n",
       "37497             4.0            4.5           4.0   \n",
       "37498             4.0            5.0           5.0   \n",
       "37499             4.0            4.5           4.0   \n",
       "\n",
       "                                             review/text  \n",
       "0      Pours a clouded gold with a thin white head. N...  \n",
       "1      12oz bottle into 8oz snifter.\\t\\tDeep ruby red...  \n",
       "2      First enjoyed at the brewpub about 2 years ago...  \n",
       "3      First thing I noticed after pouring from green...  \n",
       "4      A: pours an amber with a one finger head but o...  \n",
       "...                                                  ...  \n",
       "37495  12 oz brown longneck with no freshness dating....  \n",
       "37496  A - A bright red with a maroon-amber hue; mini...  \n",
       "37497  Sampled on tap at Redbones.\\t\\tThis marzen sty...  \n",
       "37498  Pours a black body with a brown head that very...  \n",
       "37499  A nice sweet, malty beer...nothing complex, ju...  \n",
       "\n",
       "[37500 rows x 12 columns]"
      ]
     },
     "execution_count": 56,
     "metadata": {},
     "output_type": "execute_result"
    }
   ],
   "source": [
    "df"
   ]
  },
  {
   "cell_type": "code",
   "execution_count": null,
   "metadata": {},
   "outputs": [],
   "source": []
  },
  {
   "cell_type": "code",
   "execution_count": 7,
   "metadata": {},
   "outputs": [
    {
     "data": {
      "text/html": [
       "<div>\n",
       "<style scoped>\n",
       "    .dataframe tbody tr th:only-of-type {\n",
       "        vertical-align: middle;\n",
       "    }\n",
       "\n",
       "    .dataframe tbody tr th {\n",
       "        vertical-align: top;\n",
       "    }\n",
       "\n",
       "    .dataframe thead th {\n",
       "        text-align: right;\n",
       "    }\n",
       "</style>\n",
       "<table border=\"1\" class=\"dataframe\">\n",
       "  <thead>\n",
       "    <tr style=\"text-align: right;\">\n",
       "      <th></th>\n",
       "      <th>index</th>\n",
       "      <th>beer/ABV</th>\n",
       "      <th>beer/beerId</th>\n",
       "      <th>beer/brewerId</th>\n",
       "      <th>review/appearance</th>\n",
       "      <th>review/aroma</th>\n",
       "      <th>review/overall</th>\n",
       "      <th>review/palate</th>\n",
       "      <th>review/taste</th>\n",
       "      <th>review/timeUnix</th>\n",
       "      <th>user/ageInSeconds</th>\n",
       "      <th>user/birthdayUnix</th>\n",
       "    </tr>\n",
       "  </thead>\n",
       "  <tbody>\n",
       "    <tr>\n",
       "      <th>count</th>\n",
       "      <td>37500.000000</td>\n",
       "      <td>37500.000000</td>\n",
       "      <td>37500.000000</td>\n",
       "      <td>37500.000000</td>\n",
       "      <td>37500.000000</td>\n",
       "      <td>37500.000000</td>\n",
       "      <td>37500.00000</td>\n",
       "      <td>37500.000000</td>\n",
       "      <td>37500.000000</td>\n",
       "      <td>3.750000e+04</td>\n",
       "      <td>7.856000e+03</td>\n",
       "      <td>7.856000e+03</td>\n",
       "    </tr>\n",
       "    <tr>\n",
       "      <th>mean</th>\n",
       "      <td>24951.887573</td>\n",
       "      <td>7.403725</td>\n",
       "      <td>21861.152027</td>\n",
       "      <td>3036.595120</td>\n",
       "      <td>3.900053</td>\n",
       "      <td>3.873240</td>\n",
       "      <td>3.88944</td>\n",
       "      <td>3.854867</td>\n",
       "      <td>3.922440</td>\n",
       "      <td>1.232794e+09</td>\n",
       "      <td>1.176705e+09</td>\n",
       "      <td>2.416303e+08</td>\n",
       "    </tr>\n",
       "    <tr>\n",
       "      <th>std</th>\n",
       "      <td>14434.009669</td>\n",
       "      <td>2.318145</td>\n",
       "      <td>18923.130832</td>\n",
       "      <td>5123.084675</td>\n",
       "      <td>0.588778</td>\n",
       "      <td>0.680865</td>\n",
       "      <td>0.70045</td>\n",
       "      <td>0.668068</td>\n",
       "      <td>0.716504</td>\n",
       "      <td>7.190955e+07</td>\n",
       "      <td>3.375514e+08</td>\n",
       "      <td>3.375514e+08</td>\n",
       "    </tr>\n",
       "    <tr>\n",
       "      <th>min</th>\n",
       "      <td>0.000000</td>\n",
       "      <td>0.100000</td>\n",
       "      <td>175.000000</td>\n",
       "      <td>1.000000</td>\n",
       "      <td>0.000000</td>\n",
       "      <td>1.000000</td>\n",
       "      <td>0.00000</td>\n",
       "      <td>1.000000</td>\n",
       "      <td>1.000000</td>\n",
       "      <td>9.262944e+08</td>\n",
       "      <td>7.034366e+08</td>\n",
       "      <td>-2.208960e+09</td>\n",
       "    </tr>\n",
       "    <tr>\n",
       "      <th>25%</th>\n",
       "      <td>12422.500000</td>\n",
       "      <td>5.400000</td>\n",
       "      <td>5441.000000</td>\n",
       "      <td>395.000000</td>\n",
       "      <td>3.500000</td>\n",
       "      <td>3.500000</td>\n",
       "      <td>3.50000</td>\n",
       "      <td>3.500000</td>\n",
       "      <td>3.500000</td>\n",
       "      <td>1.189194e+09</td>\n",
       "      <td>9.794810e+08</td>\n",
       "      <td>1.433628e+08</td>\n",
       "    </tr>\n",
       "    <tr>\n",
       "      <th>50%</th>\n",
       "      <td>24942.500000</td>\n",
       "      <td>6.900000</td>\n",
       "      <td>17538.000000</td>\n",
       "      <td>1199.000000</td>\n",
       "      <td>4.000000</td>\n",
       "      <td>4.000000</td>\n",
       "      <td>4.00000</td>\n",
       "      <td>4.000000</td>\n",
       "      <td>4.000000</td>\n",
       "      <td>1.248150e+09</td>\n",
       "      <td>1.100009e+09</td>\n",
       "      <td>3.183264e+08</td>\n",
       "    </tr>\n",
       "    <tr>\n",
       "      <th>75%</th>\n",
       "      <td>37416.750000</td>\n",
       "      <td>9.400000</td>\n",
       "      <td>34146.000000</td>\n",
       "      <td>1315.000000</td>\n",
       "      <td>4.500000</td>\n",
       "      <td>4.500000</td>\n",
       "      <td>4.50000</td>\n",
       "      <td>4.500000</td>\n",
       "      <td>4.500000</td>\n",
       "      <td>1.291330e+09</td>\n",
       "      <td>1.274973e+09</td>\n",
       "      <td>4.388544e+08</td>\n",
       "    </tr>\n",
       "    <tr>\n",
       "      <th>max</th>\n",
       "      <td>49999.000000</td>\n",
       "      <td>57.700000</td>\n",
       "      <td>77207.000000</td>\n",
       "      <td>27797.000000</td>\n",
       "      <td>5.000000</td>\n",
       "      <td>5.000000</td>\n",
       "      <td>5.00000</td>\n",
       "      <td>5.000000</td>\n",
       "      <td>5.000000</td>\n",
       "      <td>1.326267e+09</td>\n",
       "      <td>3.627295e+09</td>\n",
       "      <td>7.148988e+08</td>\n",
       "    </tr>\n",
       "  </tbody>\n",
       "</table>\n",
       "</div>"
      ],
      "text/plain": [
       "              index      beer/ABV   beer/beerId  beer/brewerId  \\\n",
       "count  37500.000000  37500.000000  37500.000000   37500.000000   \n",
       "mean   24951.887573      7.403725  21861.152027    3036.595120   \n",
       "std    14434.009669      2.318145  18923.130832    5123.084675   \n",
       "min        0.000000      0.100000    175.000000       1.000000   \n",
       "25%    12422.500000      5.400000   5441.000000     395.000000   \n",
       "50%    24942.500000      6.900000  17538.000000    1199.000000   \n",
       "75%    37416.750000      9.400000  34146.000000    1315.000000   \n",
       "max    49999.000000     57.700000  77207.000000   27797.000000   \n",
       "\n",
       "       review/appearance  review/aroma  review/overall  review/palate  \\\n",
       "count       37500.000000  37500.000000     37500.00000   37500.000000   \n",
       "mean            3.900053      3.873240         3.88944       3.854867   \n",
       "std             0.588778      0.680865         0.70045       0.668068   \n",
       "min             0.000000      1.000000         0.00000       1.000000   \n",
       "25%             3.500000      3.500000         3.50000       3.500000   \n",
       "50%             4.000000      4.000000         4.00000       4.000000   \n",
       "75%             4.500000      4.500000         4.50000       4.500000   \n",
       "max             5.000000      5.000000         5.00000       5.000000   \n",
       "\n",
       "       review/taste  review/timeUnix  user/ageInSeconds  user/birthdayUnix  \n",
       "count  37500.000000     3.750000e+04       7.856000e+03       7.856000e+03  \n",
       "mean       3.922440     1.232794e+09       1.176705e+09       2.416303e+08  \n",
       "std        0.716504     7.190955e+07       3.375514e+08       3.375514e+08  \n",
       "min        1.000000     9.262944e+08       7.034366e+08      -2.208960e+09  \n",
       "25%        3.500000     1.189194e+09       9.794810e+08       1.433628e+08  \n",
       "50%        4.000000     1.248150e+09       1.100009e+09       3.183264e+08  \n",
       "75%        4.500000     1.291330e+09       1.274973e+09       4.388544e+08  \n",
       "max        5.000000     1.326267e+09       3.627295e+09       7.148988e+08  "
      ]
     },
     "execution_count": 7,
     "metadata": {},
     "output_type": "execute_result"
    }
   ],
   "source": [
    "df.describe()"
   ]
  },
  {
   "cell_type": "code",
   "execution_count": null,
   "metadata": {},
   "outputs": [],
   "source": []
  },
  {
   "cell_type": "code",
   "execution_count": 8,
   "metadata": {},
   "outputs": [
    {
     "data": {
      "text/plain": [
       "index                    0\n",
       "beer/ABV                 0\n",
       "beer/beerId              0\n",
       "beer/brewerId            0\n",
       "beer/name                0\n",
       "beer/style               0\n",
       "review/appearance        0\n",
       "review/aroma             0\n",
       "review/overall           0\n",
       "review/palate            0\n",
       "review/taste             0\n",
       "review/text             10\n",
       "review/timeStruct        0\n",
       "review/timeUnix          0\n",
       "user/ageInSeconds    29644\n",
       "user/birthdayRaw     29644\n",
       "user/birthdayUnix    29644\n",
       "user/gender          22186\n",
       "user/profileName         5\n",
       "dtype: int64"
      ]
     },
     "execution_count": 8,
     "metadata": {},
     "output_type": "execute_result"
    }
   ],
   "source": [
    "df.isnull().sum()"
   ]
  },
  {
   "cell_type": "code",
   "execution_count": 9,
   "metadata": {},
   "outputs": [
    {
     "data": {
      "text/plain": [
       "(37500, 19)"
      ]
     },
     "execution_count": 9,
     "metadata": {},
     "output_type": "execute_result"
    }
   ],
   "source": [
    "df.shape"
   ]
  },
  {
   "cell_type": "code",
   "execution_count": 10,
   "metadata": {},
   "outputs": [
    {
     "data": {
      "text/plain": [
       "index                  int64\n",
       "beer/ABV             float64\n",
       "beer/beerId            int64\n",
       "beer/brewerId          int64\n",
       "beer/name             object\n",
       "beer/style            object\n",
       "review/appearance    float64\n",
       "review/aroma         float64\n",
       "review/overall       float64\n",
       "review/palate        float64\n",
       "review/taste         float64\n",
       "review/text           object\n",
       "review/timeStruct     object\n",
       "review/timeUnix        int64\n",
       "user/ageInSeconds    float64\n",
       "user/birthdayRaw      object\n",
       "user/birthdayUnix    float64\n",
       "user/gender           object\n",
       "user/profileName      object\n",
       "dtype: object"
      ]
     },
     "execution_count": 10,
     "metadata": {},
     "output_type": "execute_result"
    }
   ],
   "source": [
    "#visualization\n",
    "df.dtypes"
   ]
  },
  {
   "cell_type": "code",
   "execution_count": 11,
   "metadata": {},
   "outputs": [
    {
     "data": {
      "text/plain": [
       "<seaborn.axisgrid.FacetGrid at 0x295d1dd0a90>"
      ]
     },
     "execution_count": 11,
     "metadata": {},
     "output_type": "execute_result"
    },
    {
     "data": {
      "image/png": "[encoded data removed]",
      "text/plain": [
       "<Figure size 360x360 with 1 Axes>"
      ]
     },
     "metadata": {
      "needs_background": "light"
     },
     "output_type": "display_data"
    }
   ],
   "source": [
    "sns.relplot(x=\"review/overall\",y=\"review/taste\",data=df)"
   ]
  },
  {
   "cell_type": "code",
   "execution_count": 12,
   "metadata": {},
   "outputs": [
    {
     "data": {
      "text/plain": [
       "index                  int64\n",
       "beer/ABV             float64\n",
       "beer/beerId            int64\n",
       "beer/brewerId          int64\n",
       "beer/name             object\n",
       "beer/style            object\n",
       "review/appearance    float64\n",
       "review/aroma         float64\n",
       "review/overall       float64\n",
       "review/palate        float64\n",
       "review/taste         float64\n",
       "review/text           object\n",
       "review/timeStruct     object\n",
       "review/timeUnix        int64\n",
       "user/ageInSeconds    float64\n",
       "user/birthdayRaw      object\n",
       "user/birthdayUnix    float64\n",
       "user/gender           object\n",
       "user/profileName      object\n",
       "dtype: object"
      ]
     },
     "execution_count": 12,
     "metadata": {},
     "output_type": "execute_result"
    }
   ],
   "source": [
    "df.dtypes"
   ]
  },
  {
   "cell_type": "code",
   "execution_count": 13,
   "metadata": {},
   "outputs": [],
   "source": [
    "# modeling"
   ]
  },
  {
   "cell_type": "code",
   "execution_count": 14,
   "metadata": {},
   "outputs": [],
   "source": [
    "from sklearn.linear_model import LinearRegression\n",
    "from sklearn.model_selection import train_test_split"
   ]
  },
  {
   "cell_type": "code",
   "execution_count": 15,
   "metadata": {},
   "outputs": [],
   "source": [
    "df = df.drop(columns=['review/timeStruct','review/timeUnix','user/ageInSeconds' ,'user/birthdayRaw','user/birthdayUnix','user/gender' ,'user/profileName'])"
   ]
  },
  {
   "cell_type": "code",
   "execution_count": 16,
   "metadata": {},
   "outputs": [
    {
     "data": {
      "text/plain": [
       "Index(['index', 'beer/ABV', 'beer/beerId', 'beer/brewerId', 'beer/name',\n",
       "       'beer/style', 'review/appearance', 'review/aroma', 'review/overall',\n",
       "       'review/palate', 'review/taste', 'review/text'],\n",
       "      dtype='object')"
      ]
     },
     "execution_count": 16,
     "metadata": {},
     "output_type": "execute_result"
    }
   ],
   "source": [
    "df.columns"
   ]
  },
  {
   "cell_type": "code",
   "execution_count": 17,
   "metadata": {},
   "outputs": [
    {
     "data": {
      "text/plain": [
       "index                 0\n",
       "beer/ABV              0\n",
       "beer/beerId           0\n",
       "beer/brewerId         0\n",
       "beer/name             0\n",
       "beer/style            0\n",
       "review/appearance     0\n",
       "review/aroma          0\n",
       "review/overall        0\n",
       "review/palate         0\n",
       "review/taste          0\n",
       "review/text          10\n",
       "dtype: int64"
      ]
     },
     "execution_count": 17,
     "metadata": {},
     "output_type": "execute_result"
    }
   ],
   "source": [
    "df.isnull().sum()"
   ]
  },
  {
   "cell_type": "code",
   "execution_count": 29,
   "metadata": {},
   "outputs": [],
   "source": [
    "train = df.drop(columns=['review/overall','index', 'beer/ABV', 'beer/beerId', 'beer/brewerId', 'beer/name',\n",
    "       'beer/style',  'review/text'])\n",
    "test = df['review/overall']"
   ]
  },
  {
   "cell_type": "code",
   "execution_count": 30,
   "metadata": {},
   "outputs": [
    {
     "data": {
      "text/plain": [
       "(37500, 4)"
      ]
     },
     "execution_count": 30,
     "metadata": {},
     "output_type": "execute_result"
    }
   ],
   "source": [
    "train.shape"
   ]
  },
  {
   "cell_type": "code",
   "execution_count": 31,
   "metadata": {},
   "outputs": [
    {
     "data": {
      "text/plain": [
       "(37500,)"
      ]
     },
     "execution_count": 31,
     "metadata": {},
     "output_type": "execute_result"
    }
   ],
   "source": [
    "test.shape"
   ]
  },
  {
   "cell_type": "code",
   "execution_count": 32,
   "metadata": {},
   "outputs": [
    {
     "data": {
      "text/plain": [
       "Index(['review/appearance', 'review/aroma', 'review/palate', 'review/taste'], dtype='object')"
      ]
     },
     "execution_count": 32,
     "metadata": {},
     "output_type": "execute_result"
    }
   ],
   "source": [
    "train.columns"
   ]
  },
  {
   "cell_type": "code",
   "execution_count": 33,
   "metadata": {},
   "outputs": [
    {
     "data": {
      "text/plain": [
       "0        4.0\n",
       "1        3.5\n",
       "2        3.5\n",
       "3        2.5\n",
       "4        3.0\n",
       "        ... \n",
       "37495    3.5\n",
       "37496    3.5\n",
       "37497    4.0\n",
       "37498    4.0\n",
       "37499    4.0\n",
       "Name: review/overall, Length: 37500, dtype: float64"
      ]
     },
     "execution_count": 33,
     "metadata": {},
     "output_type": "execute_result"
    }
   ],
   "source": [
    "test"
   ]
  },
  {
   "cell_type": "code",
   "execution_count": 34,
   "metadata": {},
   "outputs": [],
   "source": [
    "X_train,X_test,y_train,y_test=train_test_split(train,test,test_size=0.3,random_state=2)"
   ]
  },
  {
   "cell_type": "code",
   "execution_count": 35,
   "metadata": {},
   "outputs": [],
   "source": [
    "regr= LinearRegression()"
   ]
  },
  {
   "cell_type": "code",
   "execution_count": 36,
   "metadata": {},
   "outputs": [
    {
     "data": {
      "text/plain": [
       "LinearRegression()"
      ]
     },
     "execution_count": 36,
     "metadata": {},
     "output_type": "execute_result"
    }
   ],
   "source": [
    "regr.fit(X_train,y_train)"
   ]
  },
  {
   "cell_type": "code",
   "execution_count": 37,
   "metadata": {},
   "outputs": [],
   "source": [
    "predict=regr.predict(X_test)"
   ]
  },
  {
   "cell_type": "code",
   "execution_count": 39,
   "metadata": {},
   "outputs": [
    {
     "data": {
      "text/plain": [
       "array([3.85491744, 3.92396004, 3.078245  , ..., 4.44931089, 4.63271134,\n",
       "       4.24987783])"
      ]
     },
     "execution_count": 39,
     "metadata": {},
     "output_type": "execute_result"
    }
   ],
   "source": [
    "predict"
   ]
  },
  {
   "cell_type": "code",
   "execution_count": 41,
   "metadata": {},
   "outputs": [
    {
     "data": {
      "text/plain": [
       "66.56653053131747"
      ]
     },
     "execution_count": 41,
     "metadata": {},
     "output_type": "execute_result"
    }
   ],
   "source": [
    "regr.score(X_test,y_test)*100"
   ]
  },
  {
   "cell_type": "markdown",
   "metadata": {},
   "source": [
    "#### remove all unneccsary features/columns in above"
   ]
  },
  {
   "cell_type": "code",
   "execution_count": 52,
   "metadata": {},
   "outputs": [
    {
     "data": {
      "text/plain": [
       "'*****************************************************************************************************************************'"
      ]
     },
     "execution_count": 52,
     "metadata": {},
     "output_type": "execute_result"
    }
   ],
   "source": [
    "'*'*125"
   ]
  },
  {
   "cell_type": "code",
   "execution_count": null,
   "metadata": {},
   "outputs": [],
   "source": []
  },
  {
   "cell_type": "markdown",
   "metadata": {},
   "source": [
    "#### How to select the correct predictive modeling techniques"
   ]
  },
  {
   "cell_type": "code",
   "execution_count": null,
   "metadata": {},
   "outputs": [],
   "source": []
  }
 ],
 "metadata": {
  "kernelspec": {
   "display_name": "Python 3",
   "language": "python",
   "name": "python3"
  },
  "language_info": {
   "codemirror_mode": {
    "name": "ipython",
    "version": 3
   },
   "file_extension": ".py",
   "mimetype": "text/x-python",
   "name": "python",
   "nbconvert_exporter": "python",
   "pygments_lexer": "ipython3",
   "version": "3.8.6"
  }
 },
 "nbformat": 4,
 "nbformat_minor": 4
}
