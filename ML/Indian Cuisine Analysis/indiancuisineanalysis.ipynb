{
 "cells": [
  {
   "cell_type": "markdown",
   "id": "voluntary-plymouth",
   "metadata": {},
   "source": [
    "Questions to answer"
   ]
  },
  {
   "cell_type": "markdown",
   "id": "elder-genetics",
   "metadata": {},
   "source": [
    "Ingredients used in indian desserts\n",
    "Ingredients used in indian desserts\n",
    "Ingredients used in indian desserts\n",
    "Ingredients used in indian desserts"
   ]
  },
  {
   "cell_type": "code",
   "execution_count": null,
   "id": "congressional-theta",
   "metadata": {},
   "outputs": [],
   "source": []
  }
 ],
 "metadata": {
  "kernelspec": {
   "display_name": "Python 3",
   "language": "python",
   "name": "python3"
  },
  "language_info": {
   "codemirror_mode": {
    "name": "ipython",
    "version": 3
   },
   "file_extension": ".py",
   "mimetype": "text/x-python",
   "name": "python",
   "nbconvert_exporter": "python",
   "pygments_lexer": "ipython3",
   "version": "3.8.6"
  }
 },
 "nbformat": 4,
 "nbformat_minor": 5
}
